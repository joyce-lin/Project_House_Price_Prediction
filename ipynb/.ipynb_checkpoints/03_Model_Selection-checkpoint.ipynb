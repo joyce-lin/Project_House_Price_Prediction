{
 "cells": [
  {
   "cell_type": "markdown",
   "metadata": {},
   "source": [
    "# Model Selection"
   ]
  },
  {
   "cell_type": "code",
   "execution_count": 1,
   "metadata": {
    "collapsed": true
   },
   "outputs": [],
   "source": [
    "from os import chdir\n",
    "chdir('../')\n",
    "%matplotlib inline\n",
    "from lib import *"
   ]
  },
  {
   "cell_type": "code",
   "execution_count": 2,
   "metadata": {},
   "outputs": [
    {
     "data": {
      "text/plain": [
       "'/home/jovyan/work/DSI/projects/project_2'"
      ]
     },
     "execution_count": 2,
     "metadata": {},
     "output_type": "execute_result"
    }
   ],
   "source": [
    "pwd"
   ]
  },
  {
   "cell_type": "markdown",
   "metadata": {},
   "source": [
    "### Load Data"
   ]
  },
  {
   "cell_type": "code",
   "execution_count": 6,
   "metadata": {},
   "outputs": [],
   "source": [
    "#  data\n",
    "features = pd.DataFrame(pd.read_pickle('./pickled/pickled_features'))\n",
    "target = pd.DataFrame(pd.read_pickle('./pickled/pickled_target'))\n",
    "\n",
    "# deskewed data\n",
    "features_deskewed = pd.DataFrame(pd.read_pickle('./pickled/pickled_features_deskewed'))\n",
    "target_deskewed = pd.DataFrame(pd.read_pickle('./pickled/pickled_target_deskewed'))"
   ]
  },
  {
   "cell_type": "code",
   "execution_count": 7,
   "metadata": {},
   "outputs": [
    {
     "data": {
      "text/html": [
       "<div>\n",
       "<table border=\"1\" class=\"dataframe\">\n",
       "  <thead>\n",
       "    <tr style=\"text-align: right;\">\n",
       "      <th></th>\n",
       "      <th>Id</th>\n",
       "      <th>MSSubClass</th>\n",
       "      <th>LotFrontage</th>\n",
       "      <th>LotArea</th>\n",
       "      <th>YearBuilt</th>\n",
       "      <th>YearRemodAdd</th>\n",
       "      <th>MasVnrArea</th>\n",
       "      <th>BsmtFinSF1</th>\n",
       "      <th>BsmtFinSF2</th>\n",
       "      <th>BsmtUnfSF</th>\n",
       "      <th>...</th>\n",
       "      <th>SaleType_ConLw</th>\n",
       "      <th>SaleType_New</th>\n",
       "      <th>SaleType_Oth</th>\n",
       "      <th>SaleType_WD</th>\n",
       "      <th>SaleCondition_Abnorml</th>\n",
       "      <th>SaleCondition_AdjLand</th>\n",
       "      <th>SaleCondition_Alloca</th>\n",
       "      <th>SaleCondition_Family</th>\n",
       "      <th>SaleCondition_Normal</th>\n",
       "      <th>SaleCondition_Partial</th>\n",
       "    </tr>\n",
       "  </thead>\n",
       "  <tbody>\n",
       "    <tr>\n",
       "      <th>0</th>\n",
       "      <td>1.0</td>\n",
       "      <td>60.0</td>\n",
       "      <td>65.0</td>\n",
       "      <td>8450.0</td>\n",
       "      <td>2003.0</td>\n",
       "      <td>2003.0</td>\n",
       "      <td>196.0</td>\n",
       "      <td>706.0</td>\n",
       "      <td>0.0</td>\n",
       "      <td>150.0</td>\n",
       "      <td>...</td>\n",
       "      <td>0</td>\n",
       "      <td>0</td>\n",
       "      <td>0</td>\n",
       "      <td>1</td>\n",
       "      <td>0</td>\n",
       "      <td>0</td>\n",
       "      <td>0</td>\n",
       "      <td>0</td>\n",
       "      <td>1</td>\n",
       "      <td>0</td>\n",
       "    </tr>\n",
       "    <tr>\n",
       "      <th>1</th>\n",
       "      <td>2.0</td>\n",
       "      <td>20.0</td>\n",
       "      <td>80.0</td>\n",
       "      <td>9600.0</td>\n",
       "      <td>1976.0</td>\n",
       "      <td>1976.0</td>\n",
       "      <td>0.0</td>\n",
       "      <td>978.0</td>\n",
       "      <td>0.0</td>\n",
       "      <td>284.0</td>\n",
       "      <td>...</td>\n",
       "      <td>0</td>\n",
       "      <td>0</td>\n",
       "      <td>0</td>\n",
       "      <td>1</td>\n",
       "      <td>0</td>\n",
       "      <td>0</td>\n",
       "      <td>0</td>\n",
       "      <td>0</td>\n",
       "      <td>1</td>\n",
       "      <td>0</td>\n",
       "    </tr>\n",
       "    <tr>\n",
       "      <th>2</th>\n",
       "      <td>3.0</td>\n",
       "      <td>60.0</td>\n",
       "      <td>68.0</td>\n",
       "      <td>11250.0</td>\n",
       "      <td>2001.0</td>\n",
       "      <td>2002.0</td>\n",
       "      <td>162.0</td>\n",
       "      <td>486.0</td>\n",
       "      <td>0.0</td>\n",
       "      <td>434.0</td>\n",
       "      <td>...</td>\n",
       "      <td>0</td>\n",
       "      <td>0</td>\n",
       "      <td>0</td>\n",
       "      <td>1</td>\n",
       "      <td>0</td>\n",
       "      <td>0</td>\n",
       "      <td>0</td>\n",
       "      <td>0</td>\n",
       "      <td>1</td>\n",
       "      <td>0</td>\n",
       "    </tr>\n",
       "    <tr>\n",
       "      <th>3</th>\n",
       "      <td>4.0</td>\n",
       "      <td>70.0</td>\n",
       "      <td>60.0</td>\n",
       "      <td>9550.0</td>\n",
       "      <td>1915.0</td>\n",
       "      <td>1970.0</td>\n",
       "      <td>0.0</td>\n",
       "      <td>216.0</td>\n",
       "      <td>0.0</td>\n",
       "      <td>540.0</td>\n",
       "      <td>...</td>\n",
       "      <td>0</td>\n",
       "      <td>0</td>\n",
       "      <td>0</td>\n",
       "      <td>1</td>\n",
       "      <td>1</td>\n",
       "      <td>0</td>\n",
       "      <td>0</td>\n",
       "      <td>0</td>\n",
       "      <td>0</td>\n",
       "      <td>0</td>\n",
       "    </tr>\n",
       "    <tr>\n",
       "      <th>4</th>\n",
       "      <td>5.0</td>\n",
       "      <td>60.0</td>\n",
       "      <td>84.0</td>\n",
       "      <td>14260.0</td>\n",
       "      <td>2000.0</td>\n",
       "      <td>2000.0</td>\n",
       "      <td>350.0</td>\n",
       "      <td>655.0</td>\n",
       "      <td>0.0</td>\n",
       "      <td>490.0</td>\n",
       "      <td>...</td>\n",
       "      <td>0</td>\n",
       "      <td>0</td>\n",
       "      <td>0</td>\n",
       "      <td>1</td>\n",
       "      <td>0</td>\n",
       "      <td>0</td>\n",
       "      <td>0</td>\n",
       "      <td>0</td>\n",
       "      <td>1</td>\n",
       "      <td>0</td>\n",
       "    </tr>\n",
       "  </tbody>\n",
       "</table>\n",
       "<p>5 rows × 348 columns</p>\n",
       "</div>"
      ],
      "text/plain": [
       "    Id  MSSubClass  LotFrontage  LotArea  YearBuilt  YearRemodAdd  MasVnrArea  \\\n",
       "0  1.0        60.0         65.0   8450.0     2003.0        2003.0       196.0   \n",
       "1  2.0        20.0         80.0   9600.0     1976.0        1976.0         0.0   \n",
       "2  3.0        60.0         68.0  11250.0     2001.0        2002.0       162.0   \n",
       "3  4.0        70.0         60.0   9550.0     1915.0        1970.0         0.0   \n",
       "4  5.0        60.0         84.0  14260.0     2000.0        2000.0       350.0   \n",
       "\n",
       "   BsmtFinSF1  BsmtFinSF2  BsmtUnfSF          ...            SaleType_ConLw  \\\n",
       "0       706.0         0.0      150.0          ...                         0   \n",
       "1       978.0         0.0      284.0          ...                         0   \n",
       "2       486.0         0.0      434.0          ...                         0   \n",
       "3       216.0         0.0      540.0          ...                         0   \n",
       "4       655.0         0.0      490.0          ...                         0   \n",
       "\n",
       "   SaleType_New  SaleType_Oth  SaleType_WD  SaleCondition_Abnorml  \\\n",
       "0             0             0            1                      0   \n",
       "1             0             0            1                      0   \n",
       "2             0             0            1                      0   \n",
       "3             0             0            1                      1   \n",
       "4             0             0            1                      0   \n",
       "\n",
       "   SaleCondition_AdjLand  SaleCondition_Alloca  SaleCondition_Family  \\\n",
       "0                      0                     0                     0   \n",
       "1                      0                     0                     0   \n",
       "2                      0                     0                     0   \n",
       "3                      0                     0                     0   \n",
       "4                      0                     0                     0   \n",
       "\n",
       "   SaleCondition_Normal  SaleCondition_Partial  \n",
       "0                     1                      0  \n",
       "1                     1                      0  \n",
       "2                     1                      0  \n",
       "3                     0                      0  \n",
       "4                     1                      0  \n",
       "\n",
       "[5 rows x 348 columns]"
      ]
     },
     "execution_count": 7,
     "metadata": {},
     "output_type": "execute_result"
    }
   ],
   "source": [
    "features.head(5)"
   ]
  },
  {
   "cell_type": "code",
   "execution_count": 8,
   "metadata": {},
   "outputs": [
    {
     "data": {
      "text/html": [
       "<div>\n",
       "<table border=\"1\" class=\"dataframe\">\n",
       "  <thead>\n",
       "    <tr style=\"text-align: right;\">\n",
       "      <th></th>\n",
       "      <th>MSSubClass</th>\n",
       "      <th>LotFrontage</th>\n",
       "      <th>LotArea</th>\n",
       "      <th>MasVnrArea</th>\n",
       "      <th>BsmtFinSF1</th>\n",
       "      <th>BsmtFinSF2</th>\n",
       "      <th>BsmtUnfSF</th>\n",
       "      <th>TotalBsmtSF</th>\n",
       "      <th>1stFlrSF</th>\n",
       "      <th>2ndFlrSF</th>\n",
       "      <th>...</th>\n",
       "      <th>SaleType_ConLw</th>\n",
       "      <th>SaleType_New</th>\n",
       "      <th>SaleType_Oth</th>\n",
       "      <th>SaleType_WD</th>\n",
       "      <th>SaleCondition_Abnorml</th>\n",
       "      <th>SaleCondition_AdjLand</th>\n",
       "      <th>SaleCondition_Alloca</th>\n",
       "      <th>SaleCondition_Family</th>\n",
       "      <th>SaleCondition_Normal</th>\n",
       "      <th>SaleCondition_Partial</th>\n",
       "    </tr>\n",
       "  </thead>\n",
       "  <tbody>\n",
       "    <tr>\n",
       "      <th>0</th>\n",
       "      <td>3.8918</td>\n",
       "      <td>4.6821</td>\n",
       "      <td>9.0707</td>\n",
       "      <td>5.2883</td>\n",
       "      <td>6.8395</td>\n",
       "      <td>0.6931</td>\n",
       "      <td>6.2615</td>\n",
       "      <td>7.8482</td>\n",
       "      <td>6.6619</td>\n",
       "      <td>6.7523</td>\n",
       "      <td>...</td>\n",
       "      <td>0</td>\n",
       "      <td>0</td>\n",
       "      <td>0</td>\n",
       "      <td>1</td>\n",
       "      <td>0</td>\n",
       "      <td>0</td>\n",
       "      <td>0</td>\n",
       "      <td>0</td>\n",
       "      <td>1</td>\n",
       "      <td>0</td>\n",
       "    </tr>\n",
       "    <tr>\n",
       "      <th>1</th>\n",
       "      <td>2.1972</td>\n",
       "      <td>4.8122</td>\n",
       "      <td>9.1949</td>\n",
       "      <td>0.6931</td>\n",
       "      <td>7.0951</td>\n",
       "      <td>0.6931</td>\n",
       "      <td>6.4892</td>\n",
       "      <td>7.9953</td>\n",
       "      <td>7.0800</td>\n",
       "      <td>0.6931</td>\n",
       "      <td>...</td>\n",
       "      <td>0</td>\n",
       "      <td>0</td>\n",
       "      <td>0</td>\n",
       "      <td>1</td>\n",
       "      <td>0</td>\n",
       "      <td>0</td>\n",
       "      <td>0</td>\n",
       "      <td>0</td>\n",
       "      <td>1</td>\n",
       "      <td>0</td>\n",
       "    </tr>\n",
       "    <tr>\n",
       "      <th>2</th>\n",
       "      <td>3.8918</td>\n",
       "      <td>4.7095</td>\n",
       "      <td>9.3498</td>\n",
       "      <td>5.0999</td>\n",
       "      <td>6.5709</td>\n",
       "      <td>0.6931</td>\n",
       "      <td>6.6946</td>\n",
       "      <td>7.8728</td>\n",
       "      <td>6.7405</td>\n",
       "      <td>6.7662</td>\n",
       "      <td>...</td>\n",
       "      <td>0</td>\n",
       "      <td>0</td>\n",
       "      <td>0</td>\n",
       "      <td>1</td>\n",
       "      <td>0</td>\n",
       "      <td>0</td>\n",
       "      <td>0</td>\n",
       "      <td>0</td>\n",
       "      <td>1</td>\n",
       "      <td>0</td>\n",
       "    </tr>\n",
       "    <tr>\n",
       "      <th>3</th>\n",
       "      <td>4.0775</td>\n",
       "      <td>4.6347</td>\n",
       "      <td>9.1898</td>\n",
       "      <td>0.6931</td>\n",
       "      <td>6.0958</td>\n",
       "      <td>0.6931</td>\n",
       "      <td>6.8178</td>\n",
       "      <td>7.8083</td>\n",
       "      <td>6.7878</td>\n",
       "      <td>6.6307</td>\n",
       "      <td>...</td>\n",
       "      <td>0</td>\n",
       "      <td>0</td>\n",
       "      <td>0</td>\n",
       "      <td>1</td>\n",
       "      <td>1</td>\n",
       "      <td>0</td>\n",
       "      <td>0</td>\n",
       "      <td>0</td>\n",
       "      <td>0</td>\n",
       "      <td>0</td>\n",
       "    </tr>\n",
       "    <tr>\n",
       "      <th>4</th>\n",
       "      <td>3.8918</td>\n",
       "      <td>4.8442</td>\n",
       "      <td>9.5824</td>\n",
       "      <td>5.8636</td>\n",
       "      <td>6.7833</td>\n",
       "      <td>0.6931</td>\n",
       "      <td>6.7616</td>\n",
       "      <td>7.9551</td>\n",
       "      <td>6.9763</td>\n",
       "      <td>6.9613</td>\n",
       "      <td>...</td>\n",
       "      <td>0</td>\n",
       "      <td>0</td>\n",
       "      <td>0</td>\n",
       "      <td>1</td>\n",
       "      <td>0</td>\n",
       "      <td>0</td>\n",
       "      <td>0</td>\n",
       "      <td>0</td>\n",
       "      <td>1</td>\n",
       "      <td>0</td>\n",
       "    </tr>\n",
       "  </tbody>\n",
       "</table>\n",
       "<p>5 rows × 348 columns</p>\n",
       "</div>"
      ],
      "text/plain": [
       "   MSSubClass  LotFrontage  LotArea  MasVnrArea  BsmtFinSF1  BsmtFinSF2  \\\n",
       "0      3.8918       4.6821   9.0707      5.2883      6.8395      0.6931   \n",
       "1      2.1972       4.8122   9.1949      0.6931      7.0951      0.6931   \n",
       "2      3.8918       4.7095   9.3498      5.0999      6.5709      0.6931   \n",
       "3      4.0775       4.6347   9.1898      0.6931      6.0958      0.6931   \n",
       "4      3.8918       4.8442   9.5824      5.8636      6.7833      0.6931   \n",
       "\n",
       "   BsmtUnfSF  TotalBsmtSF  1stFlrSF  2ndFlrSF          ...            \\\n",
       "0     6.2615       7.8482    6.6619    6.7523          ...             \n",
       "1     6.4892       7.9953    7.0800    0.6931          ...             \n",
       "2     6.6946       7.8728    6.7405    6.7662          ...             \n",
       "3     6.8178       7.8083    6.7878    6.6307          ...             \n",
       "4     6.7616       7.9551    6.9763    6.9613          ...             \n",
       "\n",
       "   SaleType_ConLw  SaleType_New  SaleType_Oth  SaleType_WD  \\\n",
       "0               0             0             0            1   \n",
       "1               0             0             0            1   \n",
       "2               0             0             0            1   \n",
       "3               0             0             0            1   \n",
       "4               0             0             0            1   \n",
       "\n",
       "   SaleCondition_Abnorml  SaleCondition_AdjLand  SaleCondition_Alloca  \\\n",
       "0                      0                      0                     0   \n",
       "1                      0                      0                     0   \n",
       "2                      0                      0                     0   \n",
       "3                      1                      0                     0   \n",
       "4                      0                      0                     0   \n",
       "\n",
       "   SaleCondition_Family  SaleCondition_Normal  SaleCondition_Partial  \n",
       "0                     0                     1                      0  \n",
       "1                     0                     1                      0  \n",
       "2                     0                     1                      0  \n",
       "3                     0                     0                      0  \n",
       "4                     0                     1                      0  \n",
       "\n",
       "[5 rows x 348 columns]"
      ]
     },
     "execution_count": 8,
     "metadata": {},
     "output_type": "execute_result"
    }
   ],
   "source": [
    "features_deskewed.head()"
   ]
  },
  {
   "cell_type": "markdown",
   "metadata": {
    "collapsed": true
   },
   "source": [
    "### (Fuction) Train-Test Split & Modeling"
   ]
  },
  {
   "cell_type": "code",
   "execution_count": 9,
   "metadata": {
    "collapsed": true
   },
   "outputs": [],
   "source": [
    "from sklearn.model_selection import train_test_split, GridSearchCV\n",
    "from sklearn.preprocessing import StandardScaler\n",
    "from sklearn.neighbors import KNeighborsClassifier, KNeighborsRegressor\n",
    "from sklearn.tree import DecisionTreeClassifier, DecisionTreeRegressor \n",
    "from sklearn.linear_model import Lasso, LogisticRegression,LinearRegression\n",
    "from sklearn.ensemble import RandomForestRegressor\n",
    "from sklearn.dummy import DummyClassifier, DummyRegressor\n",
    "from sklearn.decomposition import PCA\n",
    "import pandas as pd\n",
    "import numpy as np\n",
    "\n",
    "def split(feature, target, test_size=.3, random_state = 42):\n",
    "    X_train, X_test, y_train, y_test = train_test_split(feature,target,\n",
    "                                                   test_size = test_size,\n",
    "                                                   random_state = random_state)\n",
    "    data_dict = {\n",
    "        'X_train': X_train,\n",
    "        'X_test': X_test,\n",
    "        'y_train': y_train,\n",
    "        'y_test': y_test,\n",
    "    }\n",
    "    return data_dict\n",
    "\n",
    "def transform(data_dict, transformer = StandardScaler()):\n",
    "    feature=data_dict.copy()\n",
    "    feature['X_train']=transformer.fit_transform(feature['X_train'])\n",
    "    feature['X_test']=transformer.transform(feature['X_test'])\n",
    "    \n",
    "    try:\n",
    "        feature['transformer'].append(transformer)\n",
    "    except:\n",
    "        feature['transformer']=[transformer]\n",
    "    return feature   \n",
    "\n",
    "def fit_and_score(data_dict,model):\n",
    "    d=data_dict.copy()\n",
    "    model.fit(d['X_train'],d['y_train'])\n",
    "    train_score=model.score(d['X_train'],d['y_train'])\n",
    "    test_score=model.score(d['X_test'],d['y_test'])\n",
    "    try:\n",
    "        d['cv_results'] = model.cv_results_\n",
    "        d['best_estimator'] = model.best_estimator_\n",
    "    except:\n",
    "        pass\n",
    "    \n",
    "    d['model']=model\n",
    "    d['train_score']= train_score\n",
    "    d['test_score']=test_score\n",
    "    \n",
    "    return d"
   ]
  },
  {
   "cell_type": "markdown",
   "metadata": {},
   "source": [
    "### Benchmarking Model #1   Logistic Regression"
   ]
  },
  {
   "cell_type": "code",
   "execution_count": 15,
   "metadata": {},
   "outputs": [
    {
     "name": "stdout",
     "output_type": "stream",
     "text": [
      "Benchmark Train Score for LR: 1.0\n",
      "Benchmark Test Score for LR: 0.00456621004566\n",
      "\u001b[1;35;30m Model:  \n",
      " LogisticRegression(C=1.0, class_weight=None, dual=False, fit_intercept=True,\n",
      "          intercept_scaling=1, max_iter=100, multi_class='ovr', n_jobs=1,\n",
      "          penalty='l2', random_state=None, solver='liblinear', tol=0.0001,\n",
      "          verbose=0, warm_start=False)\n"
     ]
    }
   ],
   "source": [
    "split_data = split(features, np.ravel(target))\n",
    "scaled_data = transform(split_data)\n",
    "lr_results = fit_and_score(scaled_data,LogisticRegression())\n",
    "print('Benchmark Train Score for LR:', lr_results['train_score'])\n",
    "print('Benchmark Test Score for LR:', lr_results['test_score'])\n",
    "print('\\033[1;35;30m Model:  \\n', lr_results['model'])"
   ]
  },
  {
   "cell_type": "markdown",
   "metadata": {},
   "source": [
    "### Benchmarking Model #2 Decision Tree Regressor"
   ]
  },
  {
   "cell_type": "code",
   "execution_count": 12,
   "metadata": {},
   "outputs": [
    {
     "name": "stdout",
     "output_type": "stream",
     "text": [
      "Benchmark Train Score for DTR: 1.0\n",
      "Benchmark Test Score for DTR: 0.701450772466\n",
      "\u001b[1;35;30m Model:  \n",
      " DecisionTreeRegressor(criterion='mse', max_depth=None, max_features=None,\n",
      "           max_leaf_nodes=None, min_impurity_split=1e-07,\n",
      "           min_samples_leaf=1, min_samples_split=2,\n",
      "           min_weight_fraction_leaf=0.0, presort=False, random_state=None,\n",
      "           splitter='best')\n"
     ]
    }
   ],
   "source": [
    "split_data = split(features, target)\n",
    "scaled_data =transform(split_data)\n",
    "dtr_results = fit_and_score(scaled_data,DecisionTreeRegressor())\n",
    "print('Benchmark Train Score for DTR:', dtr_results['train_score'])\n",
    "print('Benchmark Test Score for DTR:', dtr_results['test_score'])\n",
    "print('\\033[1;35;30m Model:  \\n', dtr_results['model'])"
   ]
  },
  {
   "cell_type": "markdown",
   "metadata": {},
   "source": [
    "### Benchmarking Model #3 Random Forest Regressor"
   ]
  },
  {
   "cell_type": "code",
   "execution_count": 13,
   "metadata": {},
   "outputs": [
    {
     "name": "stdout",
     "output_type": "stream",
     "text": [
      "Benchmark Train Score for RFR: 0.965382297521\n",
      "Benchmark Test Score for RFR: 0.868946374057\n",
      "\u001b[1;35;30m Model:  \n",
      " RandomForestRegressor(bootstrap=True, criterion='mse', max_depth=None,\n",
      "           max_features='auto', max_leaf_nodes=None,\n",
      "           min_impurity_split=1e-07, min_samples_leaf=1,\n",
      "           min_samples_split=2, min_weight_fraction_leaf=0.0,\n",
      "           n_estimators=10, n_jobs=1, oob_score=False, random_state=None,\n",
      "           verbose=0, warm_start=False)\n"
     ]
    }
   ],
   "source": [
    "split_data = split(features, np.ravel(target))\n",
    "scaled_data =transform(split_data)\n",
    "rfr_results = fit_and_score(scaled_data,RandomForestRegressor())\n",
    "print('Benchmark Train Score for RFR:', rfr_results['train_score'])\n",
    "print('Benchmark Test Score for RFR:', rfr_results['test_score'])\n",
    "print('\\033[1;35;30m Model:  \\n', rfr_results['model'])"
   ]
  },
  {
   "cell_type": "markdown",
   "metadata": {},
   "source": [
    "### Benchmarking Model #4   KNearNeighbor"
   ]
  },
  {
   "cell_type": "code",
   "execution_count": 14,
   "metadata": {},
   "outputs": [
    {
     "name": "stdout",
     "output_type": "stream",
     "text": [
      "Benchmark Train Score for KNN: 0.828761740875\n",
      "Benchmark Test Score for KNN: 0.761672909649\n",
      "\u001b[1;35;30m Model:  \n",
      " KNeighborsRegressor(algorithm='auto', leaf_size=30, metric='minkowski',\n",
      "          metric_params=None, n_jobs=1, n_neighbors=5, p=2,\n",
      "          weights='uniform')\n"
     ]
    }
   ],
   "source": [
    "split_data = split(features, target)\n",
    "scaled_data = transform(split_data)\n",
    "knr_results = fit_and_score(scaled_data,KNeighborsRegressor())\n",
    "print('Benchmark Train Score for KNN:', knr_results['train_score'])\n",
    "print('Benchmark Test Score for KNN:', knr_results['test_score'])\n",
    "print('\\033[1;35;30m Model:  \\n', knr_results['model'])"
   ]
  },
  {
   "cell_type": "markdown",
   "metadata": {},
   "source": [
    "### Prediction #1  Scaled GridSearch Decision Tree Regressor"
   ]
  },
  {
   "cell_type": "code",
   "execution_count": 18,
   "metadata": {
    "scrolled": true
   },
   "outputs": [
    {
     "name": "stdout",
     "output_type": "stream",
     "text": [
      "Benchmark Train_Score for DTR: 1.0\n",
      "Benchmark Test_Score for DTR: 0.701450772466\n",
      "Train_Score: 0.866413152629\n",
      "Test_Score: 0.819493219047\n"
     ]
    }
   ],
   "source": [
    "split_data = split(features, target)\n",
    "scaled_data = transform(split_data)\n",
    "\n",
    "dtr_params={\n",
    "    'max_depth':list(range(3,15,1)),\n",
    "     'min_samples_leaf':[6,12,18,24]\n",
    "}\n",
    "gs_dtr=GridSearchCV(DecisionTreeRegressor(),param_grid=dtr_params,cv=5,n_jobs = -1)\n",
    "gs_dtr_results = fit_and_score(scaled_data, gs_dtr)\n",
    "print('Benchmark Train_Score for DTR:', dtr_results['train_score'])\n",
    "print('Benchmark Test_Score for DTR:', dtr_results['test_score'])\n",
    "print('Train_Score:', gs_dtr_results['train_score'])\n",
    "print('Test_Score:', gs_dtr_results['test_score'])"
   ]
  },
  {
   "cell_type": "code",
   "execution_count": 19,
   "metadata": {},
   "outputs": [
    {
     "data": {
      "text/plain": [
       "<matplotlib.legend.Legend at 0x7f74f5af0828>"
      ]
     },
     "execution_count": 19,
     "metadata": {},
     "output_type": "execute_result"
    },
    {
     "name": "stderr",
     "output_type": "stream",
     "text": [
      "/opt/conda/lib/python3.5/site-packages/matplotlib/font_manager.py:1297: UserWarning: findfont: Font family ['sans-serif'] not found. Falling back to DejaVu Sans\n",
      "  (prop.get_family(), self.defaultFamily[fontext]))\n"
     ]
    },
    {
     "data": {
      "image/png": "[encoded data removed]",
      "text/plain": [
       "<matplotlib.figure.Figure at 0x7f74f5c0c6a0>"
      ]
     },
     "metadata": {},
     "output_type": "display_data"
    }
   ],
   "source": [
    "g = pd.DataFrame(gs_dtr_results['cv_results'])\n",
    "min_samples_leaf_6 = g[g['param_min_samples_leaf'] == 6][['param_max_depth','mean_test_score']]\n",
    "min_samples_leaf_12 = g[g['param_min_samples_leaf'] == 12][['param_max_depth','mean_test_score']]\n",
    "min_samples_leaf_18 = g[g['param_min_samples_leaf'] == 18][['param_max_depth','mean_test_score']]\n",
    "min_samples_leaf_24 = g[g['param_min_samples_leaf'] == 24][['param_max_depth','mean_test_score']]\n",
    "plt.plot(min_samples_leaf_6 .values[:,0],min_samples_leaf_6 .values[:,1], c='r',label='min_samples_leaf_6 ')\n",
    "plt.plot(min_samples_leaf_12.values[:,0],min_samples_leaf_12.values[:,1], c='g',label='min_samples_leaf_12')\n",
    "plt.plot(min_samples_leaf_18.values[:,0],min_samples_leaf_18.values[:,1], c='m',label='min_samples_leaf_18')\n",
    "plt.plot(min_samples_leaf_24.values[:,0],min_samples_leaf_24.values[:,1], c='c',label='min_samples_leaf_24')\n",
    "plt.axvline(gs_dtr_results['best_estimator'].max_depth,c='b',label='best Max Depth')\n",
    "plt.legend()"
   ]
  },
  {
   "cell_type": "markdown",
   "metadata": {},
   "source": [
    "### Prediction #2 Scaled GridSearch KNN Regressor"
   ]
  },
  {
   "cell_type": "code",
   "execution_count": 20,
   "metadata": {
    "scrolled": true
   },
   "outputs": [
    {
     "name": "stdout",
     "output_type": "stream",
     "text": [
      "Benchmark Train_Score for KNN: 0.828761740875\n",
      "Benchmark Test_Score for KNN: 0.761672909649\n",
      "Train_Score: 0.916286334084\n",
      "Test_Score: 0.764273378403\n"
     ]
    }
   ],
   "source": [
    "split_data = split(features, target)\n",
    "scaled_data = transform(split_data)\n",
    "knr_params={'n_neighbors': list(range(1,21,1))}\n",
    "gs_knr=GridSearchCV(KNeighborsRegressor(),param_grid=knr_params,cv=5,n_jobs=-1)\n",
    "gs_knr_results = fit_and_score(scaled_data,gs_knr)\n",
    "print('Benchmark Train_Score for KNN:', knr_results['train_score'])\n",
    "print('Benchmark Test_Score for KNN:', knr_results['test_score'])\n",
    "print('Train_Score:', gs_knr_results['train_score'])\n",
    "print('Test_Score:', gs_knr_results['test_score'])"
   ]
  },
  {
   "cell_type": "code",
   "execution_count": 21,
   "metadata": {
    "scrolled": false
   },
   "outputs": [
    {
     "data": {
      "text/plain": [
       "<matplotlib.legend.Legend at 0x7f74f5a882b0>"
      ]
     },
     "execution_count": 21,
     "metadata": {},
     "output_type": "execute_result"
    },
    {
     "name": "stderr",
     "output_type": "stream",
     "text": [
      "/opt/conda/lib/python3.5/site-packages/matplotlib/font_manager.py:1297: UserWarning: findfont: Font family ['sans-serif'] not found. Falling back to DejaVu Sans\n",
      "  (prop.get_family(), self.defaultFamily[fontext]))\n"
     ]
    },
    {
     "data": {
      "image/png": "[encoded data removed]",
      "text/plain": [
       "<matplotlib.figure.Figure at 0x7f74f5baee48>"
      ]
     },
     "metadata": {},
     "output_type": "display_data"
    }
   ],
   "source": [
    "g = pd.DataFrame(gs_knr_results['cv_results'])\n",
    "plt.plot(g['param_n_neighbors'],g['mean_train_score'], c='g',label='Mean Train Score')\n",
    "plt.plot(g['param_n_neighbors'],g['mean_test_score'], c='r',label='Mean Test Score')\n",
    "plt.axvline(gs_knr_results['best_estimator'].n_neighbors,c='b',label='best K neighbors')\n",
    "plt.title('Mean Train/ Test Score over K_Neighbors ')\n",
    "plt.legend()"
   ]
  },
  {
   "cell_type": "markdown",
   "metadata": {},
   "source": [
    "### Prediction #3 Scaled GridSearch RandomForest Regressor"
   ]
  },
  {
   "cell_type": "code",
   "execution_count": 22,
   "metadata": {
    "scrolled": false
   },
   "outputs": [
    {
     "name": "stdout",
     "output_type": "stream",
     "text": [
      "Benchmark Train_Score for RFR: 0.965382297521\n",
      "Benchmark Test_Score for RFR: 0.868946374057\n",
      "Train_Score: 0.97292543997\n",
      "Test_Score: 0.888000886093\n",
      "\u001b[1;36;30m Best Estimater for GS_RFR:  \n",
      " RandomForestRegressor(bootstrap=True, criterion='mse', max_depth=None,\n",
      "           max_features='auto', max_leaf_nodes=None,\n",
      "           min_impurity_split=1e-07, min_samples_leaf=1,\n",
      "           min_samples_split=2, min_weight_fraction_leaf=0.0,\n",
      "           n_estimators=28, n_jobs=1, oob_score=False, random_state=42,\n",
      "           verbose=0, warm_start=False)\n"
     ]
    }
   ],
   "source": [
    "split_data = split(features, np.ravel(target))\n",
    "scaled_data = transform(split_data)\n",
    "\n",
    "rfr_params={\n",
    "    'n_estimators': list(range(10,40,2))   \n",
    "}\n",
    "gs_rfr= GridSearchCV(RandomForestRegressor(random_state = 42),param_grid=rfr_params,cv=5,n_jobs=-1)\n",
    "gs_rfr_results = fit_and_score(scaled_data,gs_rfr)\n",
    "print('Benchmark Train_Score for RFR:', rfr_results['train_score'])\n",
    "print('Benchmark Test_Score for RFR:', rfr_results['test_score'])\n",
    "print('Train_Score:', gs_rfr_results['train_score'])\n",
    "print('Test_Score:', gs_rfr_results['test_score'])\n",
    "print('\\033[1;36;30m Best Estimater for GS_RFR:  \\n', gs_rfr_results['best_estimator'])\n",
    "#print('\\033[1;35;30m Model:  \\n', gs_rfr_results['model'])"
   ]
  },
  {
   "cell_type": "code",
   "execution_count": 23,
   "metadata": {},
   "outputs": [
    {
     "data": {
      "text/plain": [
       "<matplotlib.legend.Legend at 0x7f74f599c710>"
      ]
     },
     "execution_count": 23,
     "metadata": {},
     "output_type": "execute_result"
    },
    {
     "name": "stderr",
     "output_type": "stream",
     "text": [
      "/opt/conda/lib/python3.5/site-packages/matplotlib/font_manager.py:1297: UserWarning: findfont: Font family ['sans-serif'] not found. Falling back to DejaVu Sans\n",
      "  (prop.get_family(), self.defaultFamily[fontext]))\n"
     ]
    },
    {
     "data": {
      "image/png": "[encoded data removed]",
      "text/plain": [
       "<matplotlib.figure.Figure at 0x7f74fb972f60>"
      ]
     },
     "metadata": {},
     "output_type": "display_data"
    }
   ],
   "source": [
    "g = pd.DataFrame(gs_rfr_results['cv_results'])\n",
    "plt.plot(g['param_n_estimators'],g['mean_train_score'], c='g',label='Mean Train Score')\n",
    "plt.plot(g['param_n_estimators'],g['mean_test_score'], c='r',label='Mean Test Score')\n",
    "plt.axvline(gs_rfr_results['best_estimator'].n_estimators,c='b',label='best N Estimators')\n",
    "plt.title('Mean Train/ Test Score over N_Estimators ')\n",
    "plt.legend()"
   ]
  },
  {
   "cell_type": "code",
   "execution_count": 24,
   "metadata": {},
   "outputs": [
    {
     "data": {
      "text/plain": [
       "['gs_rfr']"
      ]
     },
     "execution_count": 24,
     "metadata": {},
     "output_type": "execute_result"
    }
   ],
   "source": [
    "from sklearn.externals import joblib\n",
    "joblib.dump(gs_rfr_results['model'], 'gs_rfr')"
   ]
  },
  {
   "cell_type": "code",
   "execution_count": 25,
   "metadata": {
    "collapsed": true
   },
   "outputs": [],
   "source": [
    "variable_model = joblib.load('gs_rfr')"
   ]
  },
  {
   "cell_type": "code",
   "execution_count": 27,
   "metadata": {},
   "outputs": [
    {
     "data": {
      "text/plain": [
       "GridSearchCV(cv=5, error_score='raise',\n",
       "       estimator=RandomForestRegressor(bootstrap=True, criterion='mse', max_depth=None,\n",
       "           max_features='auto', max_leaf_nodes=None,\n",
       "           min_impurity_split=1e-07, min_samples_leaf=1,\n",
       "           min_samples_split=2, min_weight_fraction_leaf=0.0,\n",
       "           n_estimators=10, n_jobs=1, oob_score=False, random_state=42,\n",
       "           verbose=0, warm_start=False),\n",
       "       fit_params={}, iid=True, n_jobs=-1,\n",
       "       param_grid={'n_estimators': [10, 12, 14, 16, 18, 20, 22, 24, 26, 28, 30, 32, 34, 36, 38]},\n",
       "       pre_dispatch='2*n_jobs', refit=True, return_train_score=True,\n",
       "       scoring=None, verbose=0)"
      ]
     },
     "execution_count": 27,
     "metadata": {},
     "output_type": "execute_result"
    }
   ],
   "source": [
    "variable_model"
   ]
  },
  {
   "cell_type": "code",
   "execution_count": null,
   "metadata": {
    "collapsed": true
   },
   "outputs": [],
   "source": []
  }
 ],
 "metadata": {
  "kernelspec": {
   "display_name": "Python 3",
   "language": "python",
   "name": "python3"
  },
  "language_info": {
   "codemirror_mode": {
    "name": "ipython",
    "version": 3
   },
   "file_extension": ".py",
   "mimetype": "text/x-python",
   "name": "python",
   "nbconvert_exporter": "python",
   "pygments_lexer": "ipython3",
   "version": "3.5.2"
  }
 },
 "nbformat": 4,
 "nbformat_minor": 2
}
