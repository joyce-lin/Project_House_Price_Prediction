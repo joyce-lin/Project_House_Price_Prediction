{
 "cells": [
  {
   "cell_type": "markdown",
   "metadata": {
    "deletable": true,
    "editable": true
   },
   "source": [
    "# Model Selection"
   ]
  },
  {
   "cell_type": "code",
   "execution_count": 37,
   "metadata": {
    "collapsed": true,
    "deletable": true,
    "editable": true
   },
   "outputs": [],
   "source": [
    "from os import chdir\n",
    "chdir('../')\n",
    "%matplotlib inline\n",
    "from lib import *"
   ]
  },
  {
   "cell_type": "code",
   "execution_count": 38,
   "metadata": {
    "collapsed": false,
    "deletable": true,
    "editable": true
   },
   "outputs": [
    {
     "data": {
      "text/plain": [
       "'/home/jovyan/work/projects'"
      ]
     },
     "execution_count": 38,
     "metadata": {},
     "output_type": "execute_result"
    }
   ],
   "source": [
    "pwd"
   ]
  },
  {
   "cell_type": "markdown",
   "metadata": {
    "deletable": true,
    "editable": true
   },
   "source": [
    "### Load Data"
   ]
  },
  {
   "cell_type": "code",
   "execution_count": 7,
   "metadata": {
    "collapsed": true,
    "deletable": true,
    "editable": true
   },
   "outputs": [],
   "source": [
    "#  data\n",
    "features = pd.DataFrame(pd.read_pickle('./pickled/pickled_features'))\n",
    "target = pd.DataFrame(pd.read_pickle('./pickled/pickled_target'))\n",
    "\n",
    "# deskewed data\n",
    "features_deskewed = pd.DataFrame(pd.read_pickle('./pickled/pickled_features_deskewed_scaled_w_Alpha'))\n",
    "target_deskewed = pd.DataFrame(pd.read_pickle('./pickled/pickled_target_deskewed_scaled_w_Alpha'))\n",
    "\n",
    "\n",
    "scaler_pickle = './pickled/pickle_scaler.sav'\n",
    "pca_pickle='./pickled/pickle_pca.sav'\n",
    "gs_knc_pickle = './pickled/pickle_gs_knc.sav'\n",
    "scaler = joblib.load(scaler_pickle) \n",
    "pca = joblib.load(pca_pickle) \n",
    "gs_knc = joblib.load(pca_pickle) "
   ]
  },
  {
   "cell_type": "code",
   "execution_count": 8,
   "metadata": {
    "collapsed": false,
    "deletable": true,
    "editable": true
   },
   "outputs": [
    {
     "data": {
      "text/html": [
       "<div>\n",
       "<table border=\"1\" class=\"dataframe\">\n",
       "  <thead>\n",
       "    <tr style=\"text-align: right;\">\n",
       "      <th></th>\n",
       "      <th>Id</th>\n",
       "      <th>MSSubClass</th>\n",
       "      <th>LotFrontage</th>\n",
       "      <th>LotArea</th>\n",
       "      <th>YearBuilt</th>\n",
       "      <th>YearRemodAdd</th>\n",
       "      <th>MasVnrArea</th>\n",
       "      <th>BsmtFinSF1</th>\n",
       "      <th>BsmtFinSF2</th>\n",
       "      <th>BsmtUnfSF</th>\n",
       "      <th>...</th>\n",
       "      <th>SaleType_ConLw</th>\n",
       "      <th>SaleType_New</th>\n",
       "      <th>SaleType_Oth</th>\n",
       "      <th>SaleType_WD</th>\n",
       "      <th>SaleCondition_Abnorml</th>\n",
       "      <th>SaleCondition_AdjLand</th>\n",
       "      <th>SaleCondition_Alloca</th>\n",
       "      <th>SaleCondition_Family</th>\n",
       "      <th>SaleCondition_Normal</th>\n",
       "      <th>SaleCondition_Partial</th>\n",
       "    </tr>\n",
       "  </thead>\n",
       "  <tbody>\n",
       "    <tr>\n",
       "      <th>0</th>\n",
       "      <td>1.0</td>\n",
       "      <td>60.0</td>\n",
       "      <td>65.0</td>\n",
       "      <td>8450.0</td>\n",
       "      <td>2003.0</td>\n",
       "      <td>2003.0</td>\n",
       "      <td>196.0</td>\n",
       "      <td>706.0</td>\n",
       "      <td>0.0</td>\n",
       "      <td>150.0</td>\n",
       "      <td>...</td>\n",
       "      <td>0</td>\n",
       "      <td>0</td>\n",
       "      <td>0</td>\n",
       "      <td>1</td>\n",
       "      <td>0</td>\n",
       "      <td>0</td>\n",
       "      <td>0</td>\n",
       "      <td>0</td>\n",
       "      <td>1</td>\n",
       "      <td>0</td>\n",
       "    </tr>\n",
       "    <tr>\n",
       "      <th>1</th>\n",
       "      <td>2.0</td>\n",
       "      <td>20.0</td>\n",
       "      <td>80.0</td>\n",
       "      <td>9600.0</td>\n",
       "      <td>1976.0</td>\n",
       "      <td>1976.0</td>\n",
       "      <td>0.0</td>\n",
       "      <td>978.0</td>\n",
       "      <td>0.0</td>\n",
       "      <td>284.0</td>\n",
       "      <td>...</td>\n",
       "      <td>0</td>\n",
       "      <td>0</td>\n",
       "      <td>0</td>\n",
       "      <td>1</td>\n",
       "      <td>0</td>\n",
       "      <td>0</td>\n",
       "      <td>0</td>\n",
       "      <td>0</td>\n",
       "      <td>1</td>\n",
       "      <td>0</td>\n",
       "    </tr>\n",
       "    <tr>\n",
       "      <th>2</th>\n",
       "      <td>3.0</td>\n",
       "      <td>60.0</td>\n",
       "      <td>68.0</td>\n",
       "      <td>11250.0</td>\n",
       "      <td>2001.0</td>\n",
       "      <td>2002.0</td>\n",
       "      <td>162.0</td>\n",
       "      <td>486.0</td>\n",
       "      <td>0.0</td>\n",
       "      <td>434.0</td>\n",
       "      <td>...</td>\n",
       "      <td>0</td>\n",
       "      <td>0</td>\n",
       "      <td>0</td>\n",
       "      <td>1</td>\n",
       "      <td>0</td>\n",
       "      <td>0</td>\n",
       "      <td>0</td>\n",
       "      <td>0</td>\n",
       "      <td>1</td>\n",
       "      <td>0</td>\n",
       "    </tr>\n",
       "    <tr>\n",
       "      <th>3</th>\n",
       "      <td>4.0</td>\n",
       "      <td>70.0</td>\n",
       "      <td>60.0</td>\n",
       "      <td>9550.0</td>\n",
       "      <td>1915.0</td>\n",
       "      <td>1970.0</td>\n",
       "      <td>0.0</td>\n",
       "      <td>216.0</td>\n",
       "      <td>0.0</td>\n",
       "      <td>540.0</td>\n",
       "      <td>...</td>\n",
       "      <td>0</td>\n",
       "      <td>0</td>\n",
       "      <td>0</td>\n",
       "      <td>1</td>\n",
       "      <td>1</td>\n",
       "      <td>0</td>\n",
       "      <td>0</td>\n",
       "      <td>0</td>\n",
       "      <td>0</td>\n",
       "      <td>0</td>\n",
       "    </tr>\n",
       "    <tr>\n",
       "      <th>4</th>\n",
       "      <td>5.0</td>\n",
       "      <td>60.0</td>\n",
       "      <td>84.0</td>\n",
       "      <td>14260.0</td>\n",
       "      <td>2000.0</td>\n",
       "      <td>2000.0</td>\n",
       "      <td>350.0</td>\n",
       "      <td>655.0</td>\n",
       "      <td>0.0</td>\n",
       "      <td>490.0</td>\n",
       "      <td>...</td>\n",
       "      <td>0</td>\n",
       "      <td>0</td>\n",
       "      <td>0</td>\n",
       "      <td>1</td>\n",
       "      <td>0</td>\n",
       "      <td>0</td>\n",
       "      <td>0</td>\n",
       "      <td>0</td>\n",
       "      <td>1</td>\n",
       "      <td>0</td>\n",
       "    </tr>\n",
       "  </tbody>\n",
       "</table>\n",
       "<p>5 rows × 348 columns</p>\n",
       "</div>"
      ],
      "text/plain": [
       "    Id  MSSubClass  LotFrontage  LotArea  YearBuilt  YearRemodAdd  MasVnrArea  \\\n",
       "0  1.0        60.0         65.0   8450.0     2003.0        2003.0       196.0   \n",
       "1  2.0        20.0         80.0   9600.0     1976.0        1976.0         0.0   \n",
       "2  3.0        60.0         68.0  11250.0     2001.0        2002.0       162.0   \n",
       "3  4.0        70.0         60.0   9550.0     1915.0        1970.0         0.0   \n",
       "4  5.0        60.0         84.0  14260.0     2000.0        2000.0       350.0   \n",
       "\n",
       "   BsmtFinSF1  BsmtFinSF2  BsmtUnfSF          ...            SaleType_ConLw  \\\n",
       "0       706.0         0.0      150.0          ...                         0   \n",
       "1       978.0         0.0      284.0          ...                         0   \n",
       "2       486.0         0.0      434.0          ...                         0   \n",
       "3       216.0         0.0      540.0          ...                         0   \n",
       "4       655.0         0.0      490.0          ...                         0   \n",
       "\n",
       "   SaleType_New  SaleType_Oth  SaleType_WD  SaleCondition_Abnorml  \\\n",
       "0             0             0            1                      0   \n",
       "1             0             0            1                      0   \n",
       "2             0             0            1                      0   \n",
       "3             0             0            1                      1   \n",
       "4             0             0            1                      0   \n",
       "\n",
       "   SaleCondition_AdjLand  SaleCondition_Alloca  SaleCondition_Family  \\\n",
       "0                      0                     0                     0   \n",
       "1                      0                     0                     0   \n",
       "2                      0                     0                     0   \n",
       "3                      0                     0                     0   \n",
       "4                      0                     0                     0   \n",
       "\n",
       "   SaleCondition_Normal  SaleCondition_Partial  \n",
       "0                     1                      0  \n",
       "1                     1                      0  \n",
       "2                     1                      0  \n",
       "3                     0                      0  \n",
       "4                     1                      0  \n",
       "\n",
       "[5 rows x 348 columns]"
      ]
     },
     "execution_count": 8,
     "metadata": {},
     "output_type": "execute_result"
    }
   ],
   "source": [
    "features.head(5)"
   ]
  },
  {
   "cell_type": "code",
   "execution_count": 9,
   "metadata": {
    "collapsed": false,
    "deletable": true,
    "editable": true
   },
   "outputs": [
    {
     "data": {
      "text/html": [
       "<div>\n",
       "<table border=\"1\" class=\"dataframe\">\n",
       "  <thead>\n",
       "    <tr style=\"text-align: right;\">\n",
       "      <th></th>\n",
       "      <th>bsmtfinsf1</th>\n",
       "      <th>bsmtfinsf2</th>\n",
       "      <th>bsmtunfsf</th>\n",
       "      <th>enclosedporch</th>\n",
       "      <th>firstflrsf</th>\n",
       "      <th>grlivarea</th>\n",
       "      <th>lotarea</th>\n",
       "      <th>lotfrontage</th>\n",
       "      <th>lowqualfinsf</th>\n",
       "      <th>masvnrarea</th>\n",
       "      <th>...</th>\n",
       "      <th>totrmsabvgrd_10</th>\n",
       "      <th>totrmsabvgrd_11</th>\n",
       "      <th>totrmsabvgrd_12</th>\n",
       "      <th>utilities_AllPub</th>\n",
       "      <th>utilities_NoSeWa</th>\n",
       "      <th>yrsold_2006</th>\n",
       "      <th>yrsold_2007</th>\n",
       "      <th>yrsold_2008</th>\n",
       "      <th>yrsold_2009</th>\n",
       "      <th>yrsold_2010</th>\n",
       "    </tr>\n",
       "    <tr>\n",
       "      <th>id</th>\n",
       "      <th></th>\n",
       "      <th></th>\n",
       "      <th></th>\n",
       "      <th></th>\n",
       "      <th></th>\n",
       "      <th></th>\n",
       "      <th></th>\n",
       "      <th></th>\n",
       "      <th></th>\n",
       "      <th></th>\n",
       "      <th></th>\n",
       "      <th></th>\n",
       "      <th></th>\n",
       "      <th></th>\n",
       "      <th></th>\n",
       "      <th></th>\n",
       "      <th></th>\n",
       "      <th></th>\n",
       "      <th></th>\n",
       "      <th></th>\n",
       "      <th></th>\n",
       "    </tr>\n",
       "  </thead>\n",
       "  <tbody>\n",
       "    <tr>\n",
       "      <th>1</th>\n",
       "      <td>6.8320</td>\n",
       "      <td>0.6931</td>\n",
       "      <td>6.2461</td>\n",
       "      <td>0.6931</td>\n",
       "      <td>6.7310</td>\n",
       "      <td>7.5005</td>\n",
       "      <td>9.0677</td>\n",
       "      <td>4.7362</td>\n",
       "      <td>0.6931</td>\n",
       "      <td>5.2883</td>\n",
       "      <td>...</td>\n",
       "      <td>0</td>\n",
       "      <td>0</td>\n",
       "      <td>0</td>\n",
       "      <td>1</td>\n",
       "      <td>0</td>\n",
       "      <td>0</td>\n",
       "      <td>0</td>\n",
       "      <td>1</td>\n",
       "      <td>0</td>\n",
       "      <td>0</td>\n",
       "    </tr>\n",
       "    <tr>\n",
       "      <th>4</th>\n",
       "      <td>6.0799</td>\n",
       "      <td>0.6931</td>\n",
       "      <td>6.8090</td>\n",
       "      <td>5.6131</td>\n",
       "      <td>6.8491</td>\n",
       "      <td>7.5044</td>\n",
       "      <td>9.1872</td>\n",
       "      <td>4.6913</td>\n",
       "      <td>0.6931</td>\n",
       "      <td>0.6931</td>\n",
       "      <td>...</td>\n",
       "      <td>0</td>\n",
       "      <td>0</td>\n",
       "      <td>0</td>\n",
       "      <td>1</td>\n",
       "      <td>0</td>\n",
       "      <td>1</td>\n",
       "      <td>0</td>\n",
       "      <td>0</td>\n",
       "      <td>0</td>\n",
       "      <td>0</td>\n",
       "    </tr>\n",
       "    <tr>\n",
       "      <th>5</th>\n",
       "      <td>6.7754</td>\n",
       "      <td>0.6931</td>\n",
       "      <td>6.7523</td>\n",
       "      <td>0.6931</td>\n",
       "      <td>7.0273</td>\n",
       "      <td>7.7394</td>\n",
       "      <td>9.5806</td>\n",
       "      <td>4.8903</td>\n",
       "      <td>0.6931</td>\n",
       "      <td>5.8636</td>\n",
       "      <td>...</td>\n",
       "      <td>0</td>\n",
       "      <td>0</td>\n",
       "      <td>0</td>\n",
       "      <td>1</td>\n",
       "      <td>0</td>\n",
       "      <td>0</td>\n",
       "      <td>0</td>\n",
       "      <td>1</td>\n",
       "      <td>0</td>\n",
       "      <td>0</td>\n",
       "    </tr>\n",
       "    <tr>\n",
       "      <th>7</th>\n",
       "      <td>7.3715</td>\n",
       "      <td>0.6931</td>\n",
       "      <td>6.5265</td>\n",
       "      <td>0.6931</td>\n",
       "      <td>7.4242</td>\n",
       "      <td>7.4916</td>\n",
       "      <td>9.2404</td>\n",
       "      <td>4.8203</td>\n",
       "      <td>0.6931</td>\n",
       "      <td>5.2364</td>\n",
       "      <td>...</td>\n",
       "      <td>0</td>\n",
       "      <td>0</td>\n",
       "      <td>0</td>\n",
       "      <td>1</td>\n",
       "      <td>0</td>\n",
       "      <td>0</td>\n",
       "      <td>1</td>\n",
       "      <td>0</td>\n",
       "      <td>0</td>\n",
       "      <td>0</td>\n",
       "    </tr>\n",
       "    <tr>\n",
       "      <th>8</th>\n",
       "      <td>6.9847</td>\n",
       "      <td>3.5264</td>\n",
       "      <td>6.3665</td>\n",
       "      <td>5.4381</td>\n",
       "      <td>6.9930</td>\n",
       "      <td>7.6912</td>\n",
       "      <td>9.2689</td>\n",
       "      <td>4.7822</td>\n",
       "      <td>0.6931</td>\n",
       "      <td>5.4889</td>\n",
       "      <td>...</td>\n",
       "      <td>0</td>\n",
       "      <td>0</td>\n",
       "      <td>0</td>\n",
       "      <td>1</td>\n",
       "      <td>0</td>\n",
       "      <td>0</td>\n",
       "      <td>0</td>\n",
       "      <td>0</td>\n",
       "      <td>1</td>\n",
       "      <td>0</td>\n",
       "    </tr>\n",
       "  </tbody>\n",
       "</table>\n",
       "<p>5 rows × 340 columns</p>\n",
       "</div>"
      ],
      "text/plain": [
       "    bsmtfinsf1  bsmtfinsf2  bsmtunfsf  enclosedporch  firstflrsf  grlivarea  \\\n",
       "id                                                                            \n",
       "1       6.8320      0.6931     6.2461         0.6931      6.7310     7.5005   \n",
       "4       6.0799      0.6931     6.8090         5.6131      6.8491     7.5044   \n",
       "5       6.7754      0.6931     6.7523         0.6931      7.0273     7.7394   \n",
       "7       7.3715      0.6931     6.5265         0.6931      7.4242     7.4916   \n",
       "8       6.9847      3.5264     6.3665         5.4381      6.9930     7.6912   \n",
       "\n",
       "    lotarea  lotfrontage  lowqualfinsf  masvnrarea     ...       \\\n",
       "id                                                     ...        \n",
       "1    9.0677       4.7362        0.6931      5.2883     ...        \n",
       "4    9.1872       4.6913        0.6931      0.6931     ...        \n",
       "5    9.5806       4.8903        0.6931      5.8636     ...        \n",
       "7    9.2404       4.8203        0.6931      5.2364     ...        \n",
       "8    9.2689       4.7822        0.6931      5.4889     ...        \n",
       "\n",
       "    totrmsabvgrd_10  totrmsabvgrd_11  totrmsabvgrd_12  utilities_AllPub  \\\n",
       "id                                                                        \n",
       "1                 0                0                0                 1   \n",
       "4                 0                0                0                 1   \n",
       "5                 0                0                0                 1   \n",
       "7                 0                0                0                 1   \n",
       "8                 0                0                0                 1   \n",
       "\n",
       "    utilities_NoSeWa  yrsold_2006  yrsold_2007  yrsold_2008  yrsold_2009  \\\n",
       "id                                                                         \n",
       "1                  0            0            0            1            0   \n",
       "4                  0            1            0            0            0   \n",
       "5                  0            0            0            1            0   \n",
       "7                  0            0            1            0            0   \n",
       "8                  0            0            0            0            1   \n",
       "\n",
       "    yrsold_2010  \n",
       "id               \n",
       "1             0  \n",
       "4             0  \n",
       "5             0  \n",
       "7             0  \n",
       "8             0  \n",
       "\n",
       "[5 rows x 340 columns]"
      ]
     },
     "execution_count": 9,
     "metadata": {},
     "output_type": "execute_result"
    }
   ],
   "source": [
    "features_deskewed.head()"
   ]
  },
  {
   "cell_type": "markdown",
   "metadata": {
    "collapsed": true,
    "deletable": true,
    "editable": true
   },
   "source": [
    "### (Fuction) Train-Test Split & Modeling"
   ]
  },
  {
   "cell_type": "code",
   "execution_count": 10,
   "metadata": {
    "collapsed": true,
    "deletable": true,
    "editable": true
   },
   "outputs": [],
   "source": [
    "from sklearn.model_selection import train_test_split, GridSearchCV\n",
    "from sklearn.preprocessing import StandardScaler\n",
    "from sklearn.neighbors import KNeighborsClassifier, KNeighborsRegressor\n",
    "from sklearn.tree import DecisionTreeClassifier, DecisionTreeRegressor \n",
    "from sklearn.ensemble import RandomForestRegressor\n",
    "from sklearn.dummy import DummyClassifier, DummyRegressor\n",
    "from sklearn.decomposition import PCA\n",
    "import pandas as pd\n",
    "import numpy as np\n",
    "\n",
    "def split(feature, target, test_size=.3, random_state = 42):\n",
    "    X_train, X_test, y_train, y_test = train_test_split(feature,target,\n",
    "                                                   test_size = test_size,\n",
    "                                                   random_state = random_state)\n",
    "    data_dict = {\n",
    "        'X_train': X_train,\n",
    "        'X_test': X_test,\n",
    "        'y_train': y_train,\n",
    "        'y_test': y_test,\n",
    "    }\n",
    "    return data_dict\n",
    "\n",
    "def transform(data_dict, transformer = StandardScaler()):\n",
    "    feature=data_dict.copy()\n",
    "    feature['X_train']=transformer.fit_transform(feature['X_train'])\n",
    "    feature['X_test']=transformer.transform(feature['X_test'])\n",
    "    \n",
    "    try:\n",
    "        feature['transformer'].append(transformer)\n",
    "    except:\n",
    "        feature['transformer']=[transformer]\n",
    "    return feature   \n",
    "\n",
    "def fit_and_score(data_dict,model):\n",
    "    d=data_dict.copy()\n",
    "    model.fit(d['X_train'],d['y_train'])\n",
    "    train_score=model.score(d['X_train'],d['y_train'])\n",
    "    test_score=model.score(d['X_test'],d['y_test'])\n",
    "    try:\n",
    "        d['cv_results'] = model.cv_results_\n",
    "        d['best_estimator'] = model.best_estimator_\n",
    "    except:\n",
    "        pass\n",
    "    \n",
    "    d['model']=model\n",
    "    d['train_score']= train_score\n",
    "    d['test_score']=test_score\n",
    "    \n",
    "    return d"
   ]
  },
  {
   "cell_type": "markdown",
   "metadata": {
    "deletable": true,
    "editable": true
   },
   "source": [
    "### Benchmarking Model #1   KNearNeighbor"
   ]
  },
  {
   "cell_type": "code",
   "execution_count": 11,
   "metadata": {
    "collapsed": false,
    "deletable": true,
    "editable": true
   },
   "outputs": [
    {
     "name": "stdout",
     "output_type": "stream",
     "text": [
      "Benchmark Train Score for KNN: 0.828761740875\n",
      "Benchmark Test Score for KNN: 0.761672909649\n",
      "\u001b[1;35;30m Model:  \n",
      " KNeighborsRegressor(algorithm='auto', leaf_size=30, metric='minkowski',\n",
      "          metric_params=None, n_jobs=1, n_neighbors=5, p=2,\n",
      "          weights='uniform')\n"
     ]
    }
   ],
   "source": [
    "split_data = split(features, target)\n",
    "scaled_data = transform(split_data)\n",
    "pca_data=transform(scaled_data, PCA(n_components = 170))\n",
    "#print(pca_data['transformer'])\n",
    "knr_results = fit_and_score(scaled_data,KNeighborsRegressor())\n",
    "\n",
    "print('Benchmark Train Score for KNN:', knr_results['train_score'])\n",
    "print('Benchmark Test Score for KNN:', knr_results['test_score'])\n",
    "\n",
    "\n",
    "print('\\033[1;35;30m Model:  \\n', knr_results['model'])"
   ]
  },
  {
   "cell_type": "markdown",
   "metadata": {
    "deletable": true,
    "editable": true
   },
   "source": [
    "### Benchmarking Model #2 Decision Tree Regressor"
   ]
  },
  {
   "cell_type": "code",
   "execution_count": 12,
   "metadata": {
    "collapsed": false,
    "deletable": true,
    "editable": true
   },
   "outputs": [
    {
     "name": "stdout",
     "output_type": "stream",
     "text": [
      "Benchmark Train Score for DTR: 1.0\n",
      "Benchmark Test Score for DTR: 0.718310310071\n",
      "\u001b[1;35;30m Model:  \n",
      " DecisionTreeRegressor(criterion='mse', max_depth=None, max_features=None,\n",
      "           max_leaf_nodes=None, min_impurity_split=1e-07,\n",
      "           min_samples_leaf=1, min_samples_split=2,\n",
      "           min_weight_fraction_leaf=0.0, presort=False, random_state=None,\n",
      "           splitter='best')\n"
     ]
    }
   ],
   "source": [
    "split_data = split(features, target)\n",
    "scaled_data =transform(split_data)\n",
    "dtr_results = fit_and_score(scaled_data,DecisionTreeRegressor())\n",
    "print('Benchmark Train Score for DTR:', dtr_results['train_score'])\n",
    "print('Benchmark Test Score for DTR:', dtr_results['test_score'])\n",
    "print('\\033[1;35;30m Model:  \\n', dtr_results['model'])"
   ]
  },
  {
   "cell_type": "markdown",
   "metadata": {
    "deletable": true,
    "editable": true
   },
   "source": [
    "### Benchmarking Model #3 Random Forest Regressor"
   ]
  },
  {
   "cell_type": "code",
   "execution_count": 22,
   "metadata": {
    "collapsed": false,
    "deletable": true,
    "editable": true
   },
   "outputs": [
    {
     "name": "stdout",
     "output_type": "stream",
     "text": [
      "Benchmark Train Score for RFR: 0.962436315075\n",
      "Benchmark Test Score for RFR: 0.865780147016\n",
      "\u001b[1;35;30m Model:  \n",
      " RandomForestRegressor(bootstrap=True, criterion='mse', max_depth=None,\n",
      "           max_features='auto', max_leaf_nodes=None,\n",
      "           min_impurity_split=1e-07, min_samples_leaf=1,\n",
      "           min_samples_split=2, min_weight_fraction_leaf=0.0,\n",
      "           n_estimators=10, n_jobs=1, oob_score=False, random_state=None,\n",
      "           verbose=0, warm_start=False)\n"
     ]
    }
   ],
   "source": [
    "split_data = split(features, np.ravel(target))\n",
    "scaled_data =transform(split_data)\n",
    "rfr_results = fit_and_score(scaled_data,RandomForestRegressor())\n",
    "print('Benchmark Train Score for RFR:', rfr_results['train_score'])\n",
    "print('Benchmark Test Score for RFR:', rfr_results['test_score'])\n",
    "print('\\033[1;35;30m Model:  \\n', rfr_results['model'])"
   ]
  },
  {
   "cell_type": "markdown",
   "metadata": {
    "deletable": true,
    "editable": true
   },
   "source": [
    "### Prediction #1 Scaled GridSearch KNN Regressor"
   ]
  },
  {
   "cell_type": "code",
   "execution_count": 32,
   "metadata": {
    "collapsed": false,
    "deletable": true,
    "editable": true,
    "scrolled": true
   },
   "outputs": [
    {
     "name": "stdout",
     "output_type": "stream",
     "text": [
      "Benchmark Train_Score for KNN: 0.828761740875\n",
      "Benchmark Test_Score for KNN: 0.761672909649\n",
      "Train_Score: 0.916286334084\n",
      "Test_Score: 0.764273378403\n"
     ]
    }
   ],
   "source": [
    "split_data = split(features, target)\n",
    "scaled_data = transform(split_data)\n",
    "knr_params={\n",
    "    'n_neighbors': list(range(1,21,1))\n",
    "}\n",
    "gs_knr=GridSearchCV(KNeighborsRegressor(),param_grid=knr_params,cv=5,n_jobs=-1)\n",
    "gs_knr_results = fit_and_score(scaled_data,gs_knr)\n",
    "print('Benchmark Train_Score for KNN:', knr_results['train_score'])\n",
    "print('Benchmark Test_Score for KNN:', knr_results['test_score'])\n",
    "print('Train_Score:', gs_knr_results['train_score'])\n",
    "print('Test_Score:', gs_knr_results['test_score'])"
   ]
  },
  {
   "cell_type": "code",
   "execution_count": 33,
   "metadata": {
    "collapsed": false,
    "deletable": true,
    "editable": true,
    "scrolled": false
   },
   "outputs": [
    {
     "data": {
      "text/plain": [
       "<matplotlib.legend.Legend at 0x7f948a8889e8>"
      ]
     },
     "execution_count": 33,
     "metadata": {},
     "output_type": "execute_result"
    },
    {
     "name": "stderr",
     "output_type": "stream",
     "text": [
      "/opt/conda/lib/python3.5/site-packages/matplotlib/font_manager.py:1297: UserWarning: findfont: Font family ['sans-serif'] not found. Falling back to DejaVu Sans\n",
      "  (prop.get_family(), self.defaultFamily[fontext]))\n"
     ]
    },
    {
     "data": {
      "image/png": "[encoded data removed]",
      "text/plain": [
       "<matplotlib.figure.Figure at 0x7f948a9ad080>"
      ]
     },
     "metadata": {},
     "output_type": "display_data"
    }
   ],
   "source": [
    "g = pd.DataFrame(gs_knr_results['cv_results'])\n",
    "plt.plot(g['param_n_neighbors'],g['mean_train_score'], c='g',label='Mean Train Score')\n",
    "plt.plot(g['param_n_neighbors'],g['mean_test_score'], c='r',label='Mean Test Score')\n",
    "plt.axvline(gs_knr_results['best_estimator'].n_neighbors,c='b',label='best K neighbors')\n",
    "plt.title('Mean Train/ Test Score over K_Neighbors ')\n",
    "plt.legend()"
   ]
  },
  {
   "cell_type": "markdown",
   "metadata": {
    "deletable": true,
    "editable": true
   },
   "source": [
    "### Prediction #2  Scaled GridSearch Decision Tree Regressor"
   ]
  },
  {
   "cell_type": "code",
   "execution_count": 34,
   "metadata": {
    "collapsed": false,
    "deletable": true,
    "editable": true,
    "scrolled": false
   },
   "outputs": [
    {
     "name": "stdout",
     "output_type": "stream",
     "text": [
      "Benchmark Train_Score for DTR: 1.0\n",
      "Benchmark Test_Score for DTR: 0.718310310071\n",
      "Train_Score: 0.866413152629\n",
      "Test_Score: 0.818412256854\n"
     ]
    }
   ],
   "source": [
    "split_data = split(features, target)\n",
    "scaled_data = transform(split_data)\n",
    "\n",
    "dtr_params={\n",
    "    'max_depth':list(range(3,15,1)),\n",
    "     'min_samples_leaf':[6,12,18,24]\n",
    "}\n",
    "gs_dtr=GridSearchCV(DecisionTreeRegressor(),param_grid=dtr_params,cv=5,n_jobs = -1)\n",
    "gs_dtr_results = fit_and_score(scaled_data, gs_dtr)\n",
    "print('Benchmark Train_Score for DTR:', dtr_results['train_score'])\n",
    "print('Benchmark Test_Score for DTR:', dtr_results['test_score'])\n",
    "print('Train_Score:', gs_dtr_results['train_score'])\n",
    "print('Test_Score:', gs_dtr_results['test_score'])"
   ]
  },
  {
   "cell_type": "code",
   "execution_count": 35,
   "metadata": {
    "collapsed": false,
    "deletable": true,
    "editable": true
   },
   "outputs": [
    {
     "data": {
      "text/plain": [
       "<matplotlib.legend.Legend at 0x7f948a8064a8>"
      ]
     },
     "execution_count": 35,
     "metadata": {},
     "output_type": "execute_result"
    },
    {
     "name": "stderr",
     "output_type": "stream",
     "text": [
      "/opt/conda/lib/python3.5/site-packages/matplotlib/font_manager.py:1297: UserWarning: findfont: Font family ['sans-serif'] not found. Falling back to DejaVu Sans\n",
      "  (prop.get_family(), self.defaultFamily[fontext]))\n"
     ]
    },
    {
     "data": {
      "image/png": "[encoded data removed]",
      "text/plain": [
       "<matplotlib.figure.Figure at 0x7f948aafc7b8>"
      ]
     },
     "metadata": {},
     "output_type": "display_data"
    }
   ],
   "source": [
    "g = pd.DataFrame(gs_dtr_results['cv_results'])\n",
    "min_samples_leaf_6 = g[g['param_min_samples_leaf'] == 6][['param_max_depth','mean_test_score']]\n",
    "min_samples_leaf_12 = g[g['param_min_samples_leaf'] == 12][['param_max_depth','mean_test_score']]\n",
    "min_samples_leaf_18 = g[g['param_min_samples_leaf'] == 18][['param_max_depth','mean_test_score']]\n",
    "min_samples_leaf_24 = g[g['param_min_samples_leaf'] == 24][['param_max_depth','mean_test_score']]\n",
    "plt.plot(min_samples_leaf_6 .values[:,0],min_samples_leaf_6 .values[:,1], c='r',label='min_samples_leaf_6 ')\n",
    "plt.plot(min_samples_leaf_12.values[:,0],min_samples_leaf_12.values[:,1], c='g',label='min_samples_leaf_12')\n",
    "plt.plot(min_samples_leaf_18.values[:,0],min_samples_leaf_18.values[:,1], c='m',label='min_samples_leaf_18')\n",
    "plt.plot(min_samples_leaf_24.values[:,0],min_samples_leaf_24.values[:,1], c='c',label='min_samples_leaf_24')\n",
    "plt.axvline(gs_dtr_results['best_estimator'].max_depth,c='b',label='best Max Depth')\n",
    "plt.legend()"
   ]
  },
  {
   "cell_type": "markdown",
   "metadata": {
    "deletable": true,
    "editable": true
   },
   "source": [
    "### Prediction #3 Scaled GridSearch RandomForest Regressor"
   ]
  },
  {
   "cell_type": "code",
   "execution_count": 41,
   "metadata": {
    "collapsed": false,
    "deletable": true,
    "editable": true,
    "scrolled": false
   },
   "outputs": [
    {
     "name": "stdout",
     "output_type": "stream",
     "text": [
      "Benchmark Train_Score for RFR: 0.962436315075\n",
      "Benchmark Test_Score for RFR: 0.865780147016\n",
      "Train_Score: 0.971507736499\n",
      "Test_Score: 0.884207902205\n",
      "\u001b[1;36;30m Best Estimater for GS_RFR:  \n",
      " RandomForestRegressor(bootstrap=True, criterion='mse', max_depth=None,\n",
      "           max_features='auto', max_leaf_nodes=None,\n",
      "           min_impurity_split=1e-07, min_samples_leaf=1,\n",
      "           min_samples_split=2, min_weight_fraction_leaf=0.0,\n",
      "           n_estimators=24, n_jobs=1, oob_score=False, random_state=None,\n",
      "           verbose=0, warm_start=False)\n"
     ]
    }
   ],
   "source": [
    "split_data = split(features, np.ravel(target))\n",
    "scaled_data = transform(split_data)\n",
    "\n",
    "rfr_params={\n",
    "    'n_estimators': list(range(10,40,2))   \n",
    "}\n",
    "gs_rfr= GridSearchCV(RandomForestRegressor(),param_grid=rfr_params,cv=5,n_jobs=-1)\n",
    "gs_rfr_results = fit_and_score(scaled_data,gs_rfr)\n",
    "print('Benchmark Train_Score for RFR:', rfr_results['train_score'])\n",
    "print('Benchmark Test_Score for RFR:', rfr_results['test_score'])\n",
    "print('Train_Score:', gs_rfr_results['train_score'])\n",
    "print('Test_Score:', gs_rfr_results['test_score'])\n",
    "print('\\033[1;36;30m Best Estimater for GS_RFR:  \\n', gs_rfr_results['best_estimator'])\n",
    "#print('\\033[1;35;30m Model:  \\n', gs_rfr_results['model'])"
   ]
  },
  {
   "cell_type": "code",
   "execution_count": 42,
   "metadata": {
    "collapsed": false,
    "deletable": true,
    "editable": true
   },
   "outputs": [
    {
     "data": {
      "text/plain": [
       "['gs_rfr']"
      ]
     },
     "execution_count": 42,
     "metadata": {},
     "output_type": "execute_result"
    }
   ],
   "source": [
    "from sklearn.externals import joblib\n",
    "joblib.dump(gs_dtr_results['model'], 'gs_rfr')"
   ]
  },
  {
   "cell_type": "code",
   "execution_count": 46,
   "metadata": {
    "collapsed": false,
    "deletable": true,
    "editable": true
   },
   "outputs": [
    {
     "data": {
      "text/plain": [
       "<matplotlib.legend.Legend at 0x7f948a4b4a90>"
      ]
     },
     "execution_count": 46,
     "metadata": {},
     "output_type": "execute_result"
    },
    {
     "name": "stderr",
     "output_type": "stream",
     "text": [
      "/opt/conda/lib/python3.5/site-packages/matplotlib/font_manager.py:1297: UserWarning: findfont: Font family ['sans-serif'] not found. Falling back to DejaVu Sans\n",
      "  (prop.get_family(), self.defaultFamily[fontext]))\n"
     ]
    },
    {
     "data": {
      "image/png": "[encoded data removed]",
      "text/plain": [
       "<matplotlib.figure.Figure at 0x7f948a7b95c0>"
      ]
     },
     "metadata": {},
     "output_type": "display_data"
    }
   ],
   "source": [
    "g = pd.DataFrame(gs_rfr_results['cv_results'])\n",
    "plt.plot(g['param_n_estimators'],g['mean_train_score'], c='g',label='Mean Train Score')\n",
    "plt.plot(g['param_n_estimators'],g['mean_test_score'], c='r',label='Mean Test Score')\n",
    "plt.axvline(gs_rfr_results['best_estimator'].n_estimators,c='b',label='best N Estimators')\n",
    "plt.title('Mean Train/ Test Score over N_Estimators ')\n",
    "plt.legend()"
   ]
  },
  {
   "cell_type": "code",
   "execution_count": 47,
   "metadata": {
    "collapsed": true,
    "deletable": true,
    "editable": true
   },
   "outputs": [],
   "source": [
    "variable_model = joblib.load('gs_rfr')"
   ]
  },
  {
   "cell_type": "code",
   "execution_count": 48,
   "metadata": {
    "collapsed": false,
    "deletable": true,
    "editable": true
   },
   "outputs": [
    {
     "data": {
      "text/plain": [
       "GridSearchCV(cv=5, error_score='raise',\n",
       "       estimator=DecisionTreeRegressor(criterion='mse', max_depth=None, max_features=None,\n",
       "           max_leaf_nodes=None, min_impurity_split=1e-07,\n",
       "           min_samples_leaf=1, min_samples_split=2,\n",
       "           min_weight_fraction_leaf=0.0, presort=False, random_state=None,\n",
       "           splitter='best'),\n",
       "       fit_params={}, iid=True, n_jobs=-1,\n",
       "       param_grid={'max_depth': [3, 4, 5, 6, 7, 8, 9, 10, 11, 12, 13, 14], 'min_samples_leaf': [6, 12, 18, 24]},\n",
       "       pre_dispatch='2*n_jobs', refit=True, return_train_score=True,\n",
       "       scoring=None, verbose=0)"
      ]
     },
     "execution_count": 48,
     "metadata": {},
     "output_type": "execute_result"
    }
   ],
   "source": [
    "variable_model"
   ]
  }
 ],
 "metadata": {
  "kernelspec": {
   "display_name": "Python 3",
   "language": "python",
   "name": "python3"
  },
  "language_info": {
   "codemirror_mode": {
    "name": "ipython",
    "version": 3
   },
   "file_extension": ".py",
   "mimetype": "text/x-python",
   "name": "python",
   "nbconvert_exporter": "python",
   "pygments_lexer": "ipython3",
   "version": "3.5.2"
  }
 },
 "nbformat": 4,
 "nbformat_minor": 2
}
