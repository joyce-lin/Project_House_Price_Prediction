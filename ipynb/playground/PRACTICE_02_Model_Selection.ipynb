{
 "cells": [
  {
   "cell_type": "markdown",
   "metadata": {},
   "source": [
    "# Model Selection"
   ]
  },
  {
   "cell_type": "code",
   "execution_count": 1,
   "metadata": {
    "collapsed": true
   },
   "outputs": [],
   "source": [
    "import pandas as pd\n",
    "import numpy as np\n",
    "import matplotlib as mpl\n",
    "import matplotlib.pyplot as plt\n",
    "%matplotlib inline\n",
    "import seaborn as sns\n",
    "from sklearn.externals import joblib\n",
    "from IPython.display import display\n",
    "\n",
    "%matplotlib inline \n",
    "pd.options.display.precision = 4\n",
    "mpl.rcParams['font.family'] = 'Lato'\n",
    "mpl.rcParams['font.weight'] = 700\n",
    "sns.set(font='Lato', font_scale=1)\n",
    "sns.set()\n",
    "np.random.seed(42)"
   ]
  },
  {
   "cell_type": "markdown",
   "metadata": {},
   "source": [
    "### Read in your pickled dataframes from Notebook 1"
   ]
  },
  {
   "cell_type": "code",
   "execution_count": 2,
   "metadata": {},
   "outputs": [
    {
     "name": "stderr",
     "output_type": "stream",
     "text": [
      "/opt/conda/lib/python3.5/site-packages/sklearn/base.py:315: UserWarning: Trying to unpickle estimator StandardScaler from version 0.18 when using version 0.18.1. This might lead to breaking code or invalid results. Use at your own risk.\n",
      "  UserWarning)\n",
      "/opt/conda/lib/python3.5/site-packages/sklearn/base.py:315: UserWarning: Trying to unpickle estimator PCA from version 0.18 when using version 0.18.1. This might lead to breaking code or invalid results. Use at your own risk.\n",
      "  UserWarning)\n"
     ]
    }
   ],
   "source": [
    "#  data\n",
    "features = pd.DataFrame(pd.read_pickle('../pickled/pickled_features'))\n",
    "target = pd.DataFrame(pd.read_pickle('../pickled/pickled_target'))\n",
    "\n",
    "# deskewed data\n",
    "features_deskewed = pd.DataFrame(pd.read_pickle('../pickled/pickled_features_deskewed_scaled_w_Alpha'))\n",
    "target_deskewed = pd.DataFrame(pd.read_pickle('../pickled/pickled_target_deskewed_scaled_w_Alpha'))\n",
    "\n",
    "\n",
    "scaler_pickle = '../pickled/pickle_scaler.sav'\n",
    "pca_pickle='../pickled/pickle_pca.sav'\n",
    "gs_knc_pickle = '../pickled/pickle_gs_knc.sav'\n",
    "scaler = joblib.load(scaler_pickle) \n",
    "pca = joblib.load(pca_pickle) \n",
    "gs_knc = joblib.load(pca_pickle) "
   ]
  },
  {
   "cell_type": "code",
   "execution_count": 3,
   "metadata": {},
   "outputs": [
    {
     "data": {
      "text/html": [
       "<div>\n",
       "<table border=\"1\" class=\"dataframe\">\n",
       "  <thead>\n",
       "    <tr style=\"text-align: right;\">\n",
       "      <th></th>\n",
       "      <th>bsmtfinsf1</th>\n",
       "      <th>bsmtfinsf2</th>\n",
       "      <th>bsmtunfsf</th>\n",
       "      <th>enclosedporch</th>\n",
       "      <th>firstflrsf</th>\n",
       "      <th>garagearea</th>\n",
       "      <th>garageyrblt</th>\n",
       "      <th>grlivarea</th>\n",
       "      <th>lotarea</th>\n",
       "      <th>lotfrontage</th>\n",
       "      <th>...</th>\n",
       "      <th>totrmsabvgrd_10</th>\n",
       "      <th>totrmsabvgrd_11</th>\n",
       "      <th>totrmsabvgrd_12</th>\n",
       "      <th>utilities_AllPub</th>\n",
       "      <th>utilities_NoSeWa</th>\n",
       "      <th>yrsold_2006</th>\n",
       "      <th>yrsold_2007</th>\n",
       "      <th>yrsold_2008</th>\n",
       "      <th>yrsold_2009</th>\n",
       "      <th>yrsold_2010</th>\n",
       "    </tr>\n",
       "    <tr>\n",
       "      <th>id</th>\n",
       "      <th></th>\n",
       "      <th></th>\n",
       "      <th></th>\n",
       "      <th></th>\n",
       "      <th></th>\n",
       "      <th></th>\n",
       "      <th></th>\n",
       "      <th></th>\n",
       "      <th></th>\n",
       "      <th></th>\n",
       "      <th></th>\n",
       "      <th></th>\n",
       "      <th></th>\n",
       "      <th></th>\n",
       "      <th></th>\n",
       "      <th></th>\n",
       "      <th></th>\n",
       "      <th></th>\n",
       "      <th></th>\n",
       "      <th></th>\n",
       "      <th></th>\n",
       "    </tr>\n",
       "  </thead>\n",
       "  <tbody>\n",
       "    <tr>\n",
       "      <th>1</th>\n",
       "      <td>706.0</td>\n",
       "      <td>0.0</td>\n",
       "      <td>150.0</td>\n",
       "      <td>0.0</td>\n",
       "      <td>856.0</td>\n",
       "      <td>548.0</td>\n",
       "      <td>2003.0</td>\n",
       "      <td>1710.0</td>\n",
       "      <td>8450.0</td>\n",
       "      <td>65.0000</td>\n",
       "      <td>...</td>\n",
       "      <td>0</td>\n",
       "      <td>0</td>\n",
       "      <td>0</td>\n",
       "      <td>1</td>\n",
       "      <td>0</td>\n",
       "      <td>0</td>\n",
       "      <td>0</td>\n",
       "      <td>1</td>\n",
       "      <td>0</td>\n",
       "      <td>0</td>\n",
       "    </tr>\n",
       "    <tr>\n",
       "      <th>4</th>\n",
       "      <td>216.0</td>\n",
       "      <td>0.0</td>\n",
       "      <td>540.0</td>\n",
       "      <td>272.0</td>\n",
       "      <td>961.0</td>\n",
       "      <td>642.0</td>\n",
       "      <td>1998.0</td>\n",
       "      <td>1717.0</td>\n",
       "      <td>9550.0</td>\n",
       "      <td>60.0000</td>\n",
       "      <td>...</td>\n",
       "      <td>0</td>\n",
       "      <td>0</td>\n",
       "      <td>0</td>\n",
       "      <td>1</td>\n",
       "      <td>0</td>\n",
       "      <td>1</td>\n",
       "      <td>0</td>\n",
       "      <td>0</td>\n",
       "      <td>0</td>\n",
       "      <td>0</td>\n",
       "    </tr>\n",
       "    <tr>\n",
       "      <th>5</th>\n",
       "      <td>655.0</td>\n",
       "      <td>0.0</td>\n",
       "      <td>490.0</td>\n",
       "      <td>0.0</td>\n",
       "      <td>1145.0</td>\n",
       "      <td>836.0</td>\n",
       "      <td>2000.0</td>\n",
       "      <td>2198.0</td>\n",
       "      <td>14260.0</td>\n",
       "      <td>84.0000</td>\n",
       "      <td>...</td>\n",
       "      <td>0</td>\n",
       "      <td>0</td>\n",
       "      <td>0</td>\n",
       "      <td>1</td>\n",
       "      <td>0</td>\n",
       "      <td>0</td>\n",
       "      <td>0</td>\n",
       "      <td>1</td>\n",
       "      <td>0</td>\n",
       "      <td>0</td>\n",
       "    </tr>\n",
       "    <tr>\n",
       "      <th>7</th>\n",
       "      <td>1369.0</td>\n",
       "      <td>0.0</td>\n",
       "      <td>317.0</td>\n",
       "      <td>0.0</td>\n",
       "      <td>1694.0</td>\n",
       "      <td>636.0</td>\n",
       "      <td>2004.0</td>\n",
       "      <td>1694.0</td>\n",
       "      <td>10084.0</td>\n",
       "      <td>75.0000</td>\n",
       "      <td>...</td>\n",
       "      <td>0</td>\n",
       "      <td>0</td>\n",
       "      <td>0</td>\n",
       "      <td>1</td>\n",
       "      <td>0</td>\n",
       "      <td>0</td>\n",
       "      <td>1</td>\n",
       "      <td>0</td>\n",
       "      <td>0</td>\n",
       "      <td>0</td>\n",
       "    </tr>\n",
       "    <tr>\n",
       "      <th>8</th>\n",
       "      <td>859.0</td>\n",
       "      <td>32.0</td>\n",
       "      <td>216.0</td>\n",
       "      <td>228.0</td>\n",
       "      <td>1107.0</td>\n",
       "      <td>484.0</td>\n",
       "      <td>1973.0</td>\n",
       "      <td>2090.0</td>\n",
       "      <td>10382.0</td>\n",
       "      <td>70.3679</td>\n",
       "      <td>...</td>\n",
       "      <td>0</td>\n",
       "      <td>0</td>\n",
       "      <td>0</td>\n",
       "      <td>1</td>\n",
       "      <td>0</td>\n",
       "      <td>0</td>\n",
       "      <td>0</td>\n",
       "      <td>0</td>\n",
       "      <td>1</td>\n",
       "      <td>0</td>\n",
       "    </tr>\n",
       "  </tbody>\n",
       "</table>\n",
       "<p>5 rows × 340 columns</p>\n",
       "</div>"
      ],
      "text/plain": [
       "    bsmtfinsf1  bsmtfinsf2  bsmtunfsf  enclosedporch  firstflrsf  garagearea  \\\n",
       "id                                                                             \n",
       "1        706.0         0.0      150.0            0.0       856.0       548.0   \n",
       "4        216.0         0.0      540.0          272.0       961.0       642.0   \n",
       "5        655.0         0.0      490.0            0.0      1145.0       836.0   \n",
       "7       1369.0         0.0      317.0            0.0      1694.0       636.0   \n",
       "8        859.0        32.0      216.0          228.0      1107.0       484.0   \n",
       "\n",
       "    garageyrblt  grlivarea  lotarea  lotfrontage     ...       \\\n",
       "id                                                   ...        \n",
       "1        2003.0     1710.0   8450.0      65.0000     ...        \n",
       "4        1998.0     1717.0   9550.0      60.0000     ...        \n",
       "5        2000.0     2198.0  14260.0      84.0000     ...        \n",
       "7        2004.0     1694.0  10084.0      75.0000     ...        \n",
       "8        1973.0     2090.0  10382.0      70.3679     ...        \n",
       "\n",
       "    totrmsabvgrd_10  totrmsabvgrd_11  totrmsabvgrd_12  utilities_AllPub  \\\n",
       "id                                                                        \n",
       "1                 0                0                0                 1   \n",
       "4                 0                0                0                 1   \n",
       "5                 0                0                0                 1   \n",
       "7                 0                0                0                 1   \n",
       "8                 0                0                0                 1   \n",
       "\n",
       "    utilities_NoSeWa  yrsold_2006  yrsold_2007  yrsold_2008  yrsold_2009  \\\n",
       "id                                                                         \n",
       "1                  0            0            0            1            0   \n",
       "4                  0            1            0            0            0   \n",
       "5                  0            0            0            1            0   \n",
       "7                  0            0            1            0            0   \n",
       "8                  0            0            0            0            1   \n",
       "\n",
       "    yrsold_2010  \n",
       "id               \n",
       "1             0  \n",
       "4             0  \n",
       "5             0  \n",
       "7             0  \n",
       "8             0  \n",
       "\n",
       "[5 rows x 340 columns]"
      ]
     },
     "execution_count": 3,
     "metadata": {},
     "output_type": "execute_result"
    }
   ],
   "source": [
    "features.head(5)"
   ]
  },
  {
   "cell_type": "code",
   "execution_count": 4,
   "metadata": {},
   "outputs": [
    {
     "data": {
      "text/plain": [
       "dtype('float64')"
      ]
     },
     "execution_count": 4,
     "metadata": {},
     "output_type": "execute_result"
    }
   ],
   "source": [
    "target['saleprice'].dtype"
   ]
  },
  {
   "cell_type": "markdown",
   "metadata": {},
   "source": [
    "### One-Hot Encode Categorical Variables"
   ]
  },
  {
   "cell_type": "code",
   "execution_count": 5,
   "metadata": {},
   "outputs": [
    {
     "data": {
      "text/html": [
       "<div>\n",
       "<table border=\"1\" class=\"dataframe\">\n",
       "  <thead>\n",
       "    <tr style=\"text-align: right;\">\n",
       "      <th></th>\n",
       "      <th>bsmtfinsf1</th>\n",
       "      <th>bsmtfinsf2</th>\n",
       "      <th>bsmtunfsf</th>\n",
       "      <th>enclosedporch</th>\n",
       "      <th>firstflrsf</th>\n",
       "      <th>garagearea</th>\n",
       "      <th>garageyrblt</th>\n",
       "      <th>grlivarea</th>\n",
       "      <th>lotarea</th>\n",
       "      <th>lotfrontage</th>\n",
       "      <th>...</th>\n",
       "      <th>totrmsabvgrd_10</th>\n",
       "      <th>totrmsabvgrd_11</th>\n",
       "      <th>totrmsabvgrd_12</th>\n",
       "      <th>utilities_AllPub</th>\n",
       "      <th>utilities_NoSeWa</th>\n",
       "      <th>yrsold_2006</th>\n",
       "      <th>yrsold_2007</th>\n",
       "      <th>yrsold_2008</th>\n",
       "      <th>yrsold_2009</th>\n",
       "      <th>yrsold_2010</th>\n",
       "    </tr>\n",
       "    <tr>\n",
       "      <th>id</th>\n",
       "      <th></th>\n",
       "      <th></th>\n",
       "      <th></th>\n",
       "      <th></th>\n",
       "      <th></th>\n",
       "      <th></th>\n",
       "      <th></th>\n",
       "      <th></th>\n",
       "      <th></th>\n",
       "      <th></th>\n",
       "      <th></th>\n",
       "      <th></th>\n",
       "      <th></th>\n",
       "      <th></th>\n",
       "      <th></th>\n",
       "      <th></th>\n",
       "      <th></th>\n",
       "      <th></th>\n",
       "      <th></th>\n",
       "      <th></th>\n",
       "      <th></th>\n",
       "    </tr>\n",
       "  </thead>\n",
       "  <tbody>\n",
       "    <tr>\n",
       "      <th>1</th>\n",
       "      <td>706.0</td>\n",
       "      <td>0.0</td>\n",
       "      <td>150.0</td>\n",
       "      <td>0.0</td>\n",
       "      <td>856.0</td>\n",
       "      <td>548.0</td>\n",
       "      <td>2003.0</td>\n",
       "      <td>1710.0</td>\n",
       "      <td>8450.0</td>\n",
       "      <td>65.0000</td>\n",
       "      <td>...</td>\n",
       "      <td>0</td>\n",
       "      <td>0</td>\n",
       "      <td>0</td>\n",
       "      <td>1</td>\n",
       "      <td>0</td>\n",
       "      <td>0</td>\n",
       "      <td>0</td>\n",
       "      <td>1</td>\n",
       "      <td>0</td>\n",
       "      <td>0</td>\n",
       "    </tr>\n",
       "    <tr>\n",
       "      <th>4</th>\n",
       "      <td>216.0</td>\n",
       "      <td>0.0</td>\n",
       "      <td>540.0</td>\n",
       "      <td>272.0</td>\n",
       "      <td>961.0</td>\n",
       "      <td>642.0</td>\n",
       "      <td>1998.0</td>\n",
       "      <td>1717.0</td>\n",
       "      <td>9550.0</td>\n",
       "      <td>60.0000</td>\n",
       "      <td>...</td>\n",
       "      <td>0</td>\n",
       "      <td>0</td>\n",
       "      <td>0</td>\n",
       "      <td>1</td>\n",
       "      <td>0</td>\n",
       "      <td>1</td>\n",
       "      <td>0</td>\n",
       "      <td>0</td>\n",
       "      <td>0</td>\n",
       "      <td>0</td>\n",
       "    </tr>\n",
       "    <tr>\n",
       "      <th>5</th>\n",
       "      <td>655.0</td>\n",
       "      <td>0.0</td>\n",
       "      <td>490.0</td>\n",
       "      <td>0.0</td>\n",
       "      <td>1145.0</td>\n",
       "      <td>836.0</td>\n",
       "      <td>2000.0</td>\n",
       "      <td>2198.0</td>\n",
       "      <td>14260.0</td>\n",
       "      <td>84.0000</td>\n",
       "      <td>...</td>\n",
       "      <td>0</td>\n",
       "      <td>0</td>\n",
       "      <td>0</td>\n",
       "      <td>1</td>\n",
       "      <td>0</td>\n",
       "      <td>0</td>\n",
       "      <td>0</td>\n",
       "      <td>1</td>\n",
       "      <td>0</td>\n",
       "      <td>0</td>\n",
       "    </tr>\n",
       "    <tr>\n",
       "      <th>7</th>\n",
       "      <td>1369.0</td>\n",
       "      <td>0.0</td>\n",
       "      <td>317.0</td>\n",
       "      <td>0.0</td>\n",
       "      <td>1694.0</td>\n",
       "      <td>636.0</td>\n",
       "      <td>2004.0</td>\n",
       "      <td>1694.0</td>\n",
       "      <td>10084.0</td>\n",
       "      <td>75.0000</td>\n",
       "      <td>...</td>\n",
       "      <td>0</td>\n",
       "      <td>0</td>\n",
       "      <td>0</td>\n",
       "      <td>1</td>\n",
       "      <td>0</td>\n",
       "      <td>0</td>\n",
       "      <td>1</td>\n",
       "      <td>0</td>\n",
       "      <td>0</td>\n",
       "      <td>0</td>\n",
       "    </tr>\n",
       "    <tr>\n",
       "      <th>8</th>\n",
       "      <td>859.0</td>\n",
       "      <td>32.0</td>\n",
       "      <td>216.0</td>\n",
       "      <td>228.0</td>\n",
       "      <td>1107.0</td>\n",
       "      <td>484.0</td>\n",
       "      <td>1973.0</td>\n",
       "      <td>2090.0</td>\n",
       "      <td>10382.0</td>\n",
       "      <td>70.3679</td>\n",
       "      <td>...</td>\n",
       "      <td>0</td>\n",
       "      <td>0</td>\n",
       "      <td>0</td>\n",
       "      <td>1</td>\n",
       "      <td>0</td>\n",
       "      <td>0</td>\n",
       "      <td>0</td>\n",
       "      <td>0</td>\n",
       "      <td>1</td>\n",
       "      <td>0</td>\n",
       "    </tr>\n",
       "  </tbody>\n",
       "</table>\n",
       "<p>5 rows × 340 columns</p>\n",
       "</div>"
      ],
      "text/plain": [
       "    bsmtfinsf1  bsmtfinsf2  bsmtunfsf  enclosedporch  firstflrsf  garagearea  \\\n",
       "id                                                                             \n",
       "1        706.0         0.0      150.0            0.0       856.0       548.0   \n",
       "4        216.0         0.0      540.0          272.0       961.0       642.0   \n",
       "5        655.0         0.0      490.0            0.0      1145.0       836.0   \n",
       "7       1369.0         0.0      317.0            0.0      1694.0       636.0   \n",
       "8        859.0        32.0      216.0          228.0      1107.0       484.0   \n",
       "\n",
       "    garageyrblt  grlivarea  lotarea  lotfrontage     ...       \\\n",
       "id                                                   ...        \n",
       "1        2003.0     1710.0   8450.0      65.0000     ...        \n",
       "4        1998.0     1717.0   9550.0      60.0000     ...        \n",
       "5        2000.0     2198.0  14260.0      84.0000     ...        \n",
       "7        2004.0     1694.0  10084.0      75.0000     ...        \n",
       "8        1973.0     2090.0  10382.0      70.3679     ...        \n",
       "\n",
       "    totrmsabvgrd_10  totrmsabvgrd_11  totrmsabvgrd_12  utilities_AllPub  \\\n",
       "id                                                                        \n",
       "1                 0                0                0                 1   \n",
       "4                 0                0                0                 1   \n",
       "5                 0                0                0                 1   \n",
       "7                 0                0                0                 1   \n",
       "8                 0                0                0                 1   \n",
       "\n",
       "    utilities_NoSeWa  yrsold_2006  yrsold_2007  yrsold_2008  yrsold_2009  \\\n",
       "id                                                                         \n",
       "1                  0            0            0            1            0   \n",
       "4                  0            1            0            0            0   \n",
       "5                  0            0            0            1            0   \n",
       "7                  0            0            1            0            0   \n",
       "8                  0            0            0            0            1   \n",
       "\n",
       "    yrsold_2010  \n",
       "id               \n",
       "1             0  \n",
       "4             0  \n",
       "5             0  \n",
       "7             0  \n",
       "8             0  \n",
       "\n",
       "[5 rows x 340 columns]"
      ]
     },
     "execution_count": 5,
     "metadata": {},
     "output_type": "execute_result"
    }
   ],
   "source": [
    "features.head(5)"
   ]
  },
  {
   "cell_type": "code",
   "execution_count": 6,
   "metadata": {},
   "outputs": [
    {
     "data": {
      "text/html": [
       "<div>\n",
       "<table border=\"1\" class=\"dataframe\">\n",
       "  <thead>\n",
       "    <tr style=\"text-align: right;\">\n",
       "      <th></th>\n",
       "      <th>bsmtfinsf1</th>\n",
       "      <th>bsmtfinsf2</th>\n",
       "      <th>bsmtunfsf</th>\n",
       "      <th>enclosedporch</th>\n",
       "      <th>firstflrsf</th>\n",
       "      <th>grlivarea</th>\n",
       "      <th>lotarea</th>\n",
       "      <th>lotfrontage</th>\n",
       "      <th>lowqualfinsf</th>\n",
       "      <th>masvnrarea</th>\n",
       "      <th>...</th>\n",
       "      <th>totrmsabvgrd_10</th>\n",
       "      <th>totrmsabvgrd_11</th>\n",
       "      <th>totrmsabvgrd_12</th>\n",
       "      <th>utilities_AllPub</th>\n",
       "      <th>utilities_NoSeWa</th>\n",
       "      <th>yrsold_2006</th>\n",
       "      <th>yrsold_2007</th>\n",
       "      <th>yrsold_2008</th>\n",
       "      <th>yrsold_2009</th>\n",
       "      <th>yrsold_2010</th>\n",
       "    </tr>\n",
       "    <tr>\n",
       "      <th>id</th>\n",
       "      <th></th>\n",
       "      <th></th>\n",
       "      <th></th>\n",
       "      <th></th>\n",
       "      <th></th>\n",
       "      <th></th>\n",
       "      <th></th>\n",
       "      <th></th>\n",
       "      <th></th>\n",
       "      <th></th>\n",
       "      <th></th>\n",
       "      <th></th>\n",
       "      <th></th>\n",
       "      <th></th>\n",
       "      <th></th>\n",
       "      <th></th>\n",
       "      <th></th>\n",
       "      <th></th>\n",
       "      <th></th>\n",
       "      <th></th>\n",
       "      <th></th>\n",
       "    </tr>\n",
       "  </thead>\n",
       "  <tbody>\n",
       "    <tr>\n",
       "      <th>1</th>\n",
       "      <td>6.8320</td>\n",
       "      <td>0.6931</td>\n",
       "      <td>6.2461</td>\n",
       "      <td>0.6931</td>\n",
       "      <td>6.7310</td>\n",
       "      <td>7.5005</td>\n",
       "      <td>9.0677</td>\n",
       "      <td>4.7362</td>\n",
       "      <td>0.6931</td>\n",
       "      <td>5.2883</td>\n",
       "      <td>...</td>\n",
       "      <td>0</td>\n",
       "      <td>0</td>\n",
       "      <td>0</td>\n",
       "      <td>1</td>\n",
       "      <td>0</td>\n",
       "      <td>0</td>\n",
       "      <td>0</td>\n",
       "      <td>1</td>\n",
       "      <td>0</td>\n",
       "      <td>0</td>\n",
       "    </tr>\n",
       "    <tr>\n",
       "      <th>4</th>\n",
       "      <td>6.0799</td>\n",
       "      <td>0.6931</td>\n",
       "      <td>6.8090</td>\n",
       "      <td>5.6131</td>\n",
       "      <td>6.8491</td>\n",
       "      <td>7.5044</td>\n",
       "      <td>9.1872</td>\n",
       "      <td>4.6913</td>\n",
       "      <td>0.6931</td>\n",
       "      <td>0.6931</td>\n",
       "      <td>...</td>\n",
       "      <td>0</td>\n",
       "      <td>0</td>\n",
       "      <td>0</td>\n",
       "      <td>1</td>\n",
       "      <td>0</td>\n",
       "      <td>1</td>\n",
       "      <td>0</td>\n",
       "      <td>0</td>\n",
       "      <td>0</td>\n",
       "      <td>0</td>\n",
       "    </tr>\n",
       "    <tr>\n",
       "      <th>5</th>\n",
       "      <td>6.7754</td>\n",
       "      <td>0.6931</td>\n",
       "      <td>6.7523</td>\n",
       "      <td>0.6931</td>\n",
       "      <td>7.0273</td>\n",
       "      <td>7.7394</td>\n",
       "      <td>9.5806</td>\n",
       "      <td>4.8903</td>\n",
       "      <td>0.6931</td>\n",
       "      <td>5.8636</td>\n",
       "      <td>...</td>\n",
       "      <td>0</td>\n",
       "      <td>0</td>\n",
       "      <td>0</td>\n",
       "      <td>1</td>\n",
       "      <td>0</td>\n",
       "      <td>0</td>\n",
       "      <td>0</td>\n",
       "      <td>1</td>\n",
       "      <td>0</td>\n",
       "      <td>0</td>\n",
       "    </tr>\n",
       "    <tr>\n",
       "      <th>7</th>\n",
       "      <td>7.3715</td>\n",
       "      <td>0.6931</td>\n",
       "      <td>6.5265</td>\n",
       "      <td>0.6931</td>\n",
       "      <td>7.4242</td>\n",
       "      <td>7.4916</td>\n",
       "      <td>9.2404</td>\n",
       "      <td>4.8203</td>\n",
       "      <td>0.6931</td>\n",
       "      <td>5.2364</td>\n",
       "      <td>...</td>\n",
       "      <td>0</td>\n",
       "      <td>0</td>\n",
       "      <td>0</td>\n",
       "      <td>1</td>\n",
       "      <td>0</td>\n",
       "      <td>0</td>\n",
       "      <td>1</td>\n",
       "      <td>0</td>\n",
       "      <td>0</td>\n",
       "      <td>0</td>\n",
       "    </tr>\n",
       "    <tr>\n",
       "      <th>8</th>\n",
       "      <td>6.9847</td>\n",
       "      <td>3.5264</td>\n",
       "      <td>6.3665</td>\n",
       "      <td>5.4381</td>\n",
       "      <td>6.9930</td>\n",
       "      <td>7.6912</td>\n",
       "      <td>9.2689</td>\n",
       "      <td>4.7822</td>\n",
       "      <td>0.6931</td>\n",
       "      <td>5.4889</td>\n",
       "      <td>...</td>\n",
       "      <td>0</td>\n",
       "      <td>0</td>\n",
       "      <td>0</td>\n",
       "      <td>1</td>\n",
       "      <td>0</td>\n",
       "      <td>0</td>\n",
       "      <td>0</td>\n",
       "      <td>0</td>\n",
       "      <td>1</td>\n",
       "      <td>0</td>\n",
       "    </tr>\n",
       "  </tbody>\n",
       "</table>\n",
       "<p>5 rows × 340 columns</p>\n",
       "</div>"
      ],
      "text/plain": [
       "    bsmtfinsf1  bsmtfinsf2  bsmtunfsf  enclosedporch  firstflrsf  grlivarea  \\\n",
       "id                                                                            \n",
       "1       6.8320      0.6931     6.2461         0.6931      6.7310     7.5005   \n",
       "4       6.0799      0.6931     6.8090         5.6131      6.8491     7.5044   \n",
       "5       6.7754      0.6931     6.7523         0.6931      7.0273     7.7394   \n",
       "7       7.3715      0.6931     6.5265         0.6931      7.4242     7.4916   \n",
       "8       6.9847      3.5264     6.3665         5.4381      6.9930     7.6912   \n",
       "\n",
       "    lotarea  lotfrontage  lowqualfinsf  masvnrarea     ...       \\\n",
       "id                                                     ...        \n",
       "1    9.0677       4.7362        0.6931      5.2883     ...        \n",
       "4    9.1872       4.6913        0.6931      0.6931     ...        \n",
       "5    9.5806       4.8903        0.6931      5.8636     ...        \n",
       "7    9.2404       4.8203        0.6931      5.2364     ...        \n",
       "8    9.2689       4.7822        0.6931      5.4889     ...        \n",
       "\n",
       "    totrmsabvgrd_10  totrmsabvgrd_11  totrmsabvgrd_12  utilities_AllPub  \\\n",
       "id                                                                        \n",
       "1                 0                0                0                 1   \n",
       "4                 0                0                0                 1   \n",
       "5                 0                0                0                 1   \n",
       "7                 0                0                0                 1   \n",
       "8                 0                0                0                 1   \n",
       "\n",
       "    utilities_NoSeWa  yrsold_2006  yrsold_2007  yrsold_2008  yrsold_2009  \\\n",
       "id                                                                         \n",
       "1                  0            0            0            1            0   \n",
       "4                  0            1            0            0            0   \n",
       "5                  0            0            0            1            0   \n",
       "7                  0            0            1            0            0   \n",
       "8                  0            0            0            0            1   \n",
       "\n",
       "    yrsold_2010  \n",
       "id               \n",
       "1             0  \n",
       "4             0  \n",
       "5             0  \n",
       "7             0  \n",
       "8             0  \n",
       "\n",
       "[5 rows x 340 columns]"
      ]
     },
     "execution_count": 6,
     "metadata": {},
     "output_type": "execute_result"
    }
   ],
   "source": [
    "features_deskewed.head()"
   ]
  },
  {
   "cell_type": "markdown",
   "metadata": {},
   "source": [
    "# Model Selection\n",
    "\n",
    "Next, you will build a series of models. \n",
    "\n",
    "## Option 1:\n",
    "\n",
    "Pull in your deskewed pickle from notebook 1\n",
    "\n",
    "Two for Benchmarking:\n",
    "1. a KNN Model\n",
    "1. a Tree-like Model\n",
    "\n",
    "Two for Prediction:\n",
    "1. a scaled Grid-Searched KNN\n",
    "1. a scaled Tree-like Model\n",
    "\n",
    "## Option 2:\n",
    "\n",
    "Get a dataframe that has not yet been deskewed.\n",
    "\n",
    "Two for Benchmarking:\n",
    "1. a KNN Model\n",
    "1. a Tree-like Model\n",
    "1. (optional) use a Dummy Regressor\n",
    "\n",
    "Four for Prediction:\n",
    "1. a deskewed, scaled Grid-Searched KNN\n",
    "1. a deskewed, scaled Tree-like Model\n",
    "1. a scaled Grid-Searched KNN\n",
    "1. a scaled Tree-like Model\n",
    "\n",
    "Calculate Mean Test Scores on each the benchmarking and prediction models and present an analysis on these models. \n",
    "\n",
    "<div style=\"float: left\">\n",
    "<img src=\"http://interactive.blockdiag.com/image?compression=deflate&encoding=base64&src=eJxLyslPzk7JTExXqOZSUChOTsxJVdC1U1D39vNTUDa0UojJCwaJpQAZAc6O6taYioxAihTgqtyLMlN0g1MTi5IzgHygCjQ9IUWpqbo5mdmpCsrG-HSC1AG11gIABDUwYQ\" width=380px style=\"float: left\"><img src=\"http://interactive.blockdiag.com/image?compression=deflate&encoding=base64&src=eJxLyslPzk7JTExXqOZSUEhJLc5OLVfQtVMoTk7MSbUGCoEZIBF1bz8_BWUTK4WYPBewstQUhWCQZApQJMDZUR2LalMU1Qjl7kWZKbrBqYlFyRlAPlApmuaQotRU3ZzM7FQFZTOijABpAJpRCwCkXUAJ\" width=500px style=\"float: left\">\n",
    "</div>"
   ]
  },
  {
   "cell_type": "markdown",
   "metadata": {},
   "source": [
    "Use this template:\n",
    "\n",
    "        gs_params = {}\n",
    "        model_1 = GridSearchCV(ModelClass(), cv=5,\n",
    "                               param_grid=gs_params)\n",
    "        model_1.fit(X_set, y_train)\n",
    "        display(pd.DataFrame(model_1.cv_results_))\n",
    "        print(model_1.cv_results_['mean_test_score'])"
   ]
  },
  {
   "cell_type": "code",
   "execution_count": 7,
   "metadata": {
    "collapsed": true
   },
   "outputs": [],
   "source": [
    "from sklearn.model_selection import train_test_split, GridSearchCV\n",
    "from sklearn.preprocessing import StandardScaler\n",
    "from sklearn.neighbors import KNeighborsClassifier, KNeighborsRegressor\n",
    "from sklearn.tree import DecisionTreeClassifier, DecisionTreeRegressor \n",
    "from sklearn.ensemble import RandomForestRegressor\n",
    "from sklearn.dummy import DummyClassifier, DummyRegressor\n",
    "from sklearn.decomposition import PCA\n",
    "import pandas as pd\n",
    "import numpy as np\n",
    "\n",
    "def split(feature, target, test_size=.3, random_state = 42):\n",
    "    X_train, X_test, y_train, y_test = train_test_split(feature,target,\n",
    "                                                   test_size = test_size,\n",
    "                                                   random_state = random_state)\n",
    "    data_dict = {\n",
    "        'X_train': X_train,\n",
    "        'X_test': X_test,\n",
    "        'y_train': y_train,\n",
    "        'y_test': y_test,\n",
    "    }\n",
    "    return data_dict\n",
    "\n",
    "\n",
    "def transform(data_dict, transformer = StandardScaler()):\n",
    "    feature=data_dict.copy()\n",
    "    feature['X_train']=transformer.fit_transform(feature['X_train'])\n",
    "    feature['X_test']=transformer.transform(feature['X_test'])\n",
    "    \n",
    "    try:\n",
    "        feature['transformer'].append(transformer)\n",
    "    except:\n",
    "        feature['transformer']=[transformer]\n",
    "    return feature   \n",
    "\n",
    "def fit_and_score(data_dict,model):\n",
    "    d=data_dict.copy()\n",
    "    model.fit(d['X_train'],d['y_train'])\n",
    "    train_score=model.score(d['X_train'],d['y_train'])\n",
    "    test_score=model.score(d['X_test'],d['y_test'])\n",
    "    try:\n",
    "        d['cv_results'] = model.cv_results_\n",
    "        d['best_estimator'] = model.best_estimator_\n",
    "    except:\n",
    "        pass\n",
    "    \n",
    "    d['model']=model\n",
    "    d['train_score']= train_score\n",
    "    d['test_score']=test_score\n",
    "    \n",
    "    return d"
   ]
  },
  {
   "cell_type": "markdown",
   "metadata": {},
   "source": [
    "# Option 2:\n",
    "### Benchmarking Model #1   KNearNeighbor"
   ]
  },
  {
   "cell_type": "code",
   "execution_count": 8,
   "metadata": {},
   "outputs": [
    {
     "name": "stdout",
     "output_type": "stream",
     "text": [
      "Benchmark Train Score for KNN: 0.811241175712\n",
      "Benchmark Test Score for KNN: 0.714523733217\n",
      "\u001b[1;35;30m Model:  \n",
      " KNeighborsRegressor(algorithm='auto', leaf_size=30, metric='minkowski',\n",
      "          metric_params=None, n_jobs=1, n_neighbors=5, p=2,\n",
      "          weights='uniform')\n"
     ]
    }
   ],
   "source": [
    "split_data = split(features, target)\n",
    "scaled_data = transform(split_data)\n",
    "pca_data=transform(scaled_data, PCA(n_components = 170))\n",
    "#print(pca_data['transformer'])\n",
    "knr_results = fit_and_score(scaled_data,KNeighborsRegressor())\n",
    "\n",
    "print('Benchmark Train Score for KNN:', knr_results['train_score'])\n",
    "print('Benchmark Test Score for KNN:', knr_results['test_score'])\n",
    "\n",
    "\n",
    "print('\\033[1;35;30m Model:  \\n', knr_results['model'])"
   ]
  },
  {
   "cell_type": "markdown",
   "metadata": {},
   "source": [
    "### Benchmarking Model #2 Decision Tree Regressor"
   ]
  },
  {
   "cell_type": "code",
   "execution_count": 9,
   "metadata": {},
   "outputs": [
    {
     "name": "stdout",
     "output_type": "stream",
     "text": [
      "Benchmark Train Score for DTR: 1.0\n",
      "Benchmark Test Score for DTR: 0.719577981527\n",
      "\u001b[1;35;30m Model:  \n",
      " DecisionTreeRegressor(criterion='mse', max_depth=None, max_features=None,\n",
      "           max_leaf_nodes=None, min_impurity_split=1e-07,\n",
      "           min_samples_leaf=1, min_samples_split=2,\n",
      "           min_weight_fraction_leaf=0.0, presort=False, random_state=None,\n",
      "           splitter='best')\n"
     ]
    }
   ],
   "source": [
    "split_data = split(features, target)\n",
    "scaled_data =transform(split_data)\n",
    "dtr_results = fit_and_score(scaled_data,DecisionTreeRegressor())\n",
    "print('Benchmark Train Score for DTR:', dtr_results['train_score'])\n",
    "print('Benchmark Test Score for DTR:', dtr_results['test_score'])\n",
    "print('\\033[1;35;30m Model:  \\n', dtr_results['model'])"
   ]
  },
  {
   "cell_type": "code",
   "execution_count": 10,
   "metadata": {},
   "outputs": [
    {
     "name": "stdout",
     "output_type": "stream",
     "text": [
      "Benchmark Train Score for RFR: 0.965876024698\n",
      "Benchmark Test Score for RFR: 0.886484669751\n",
      "\u001b[1;35;30m Model:  \n",
      " RandomForestRegressor(bootstrap=True, criterion='mse', max_depth=None,\n",
      "           max_features='auto', max_leaf_nodes=None,\n",
      "           min_impurity_split=1e-07, min_samples_leaf=1,\n",
      "           min_samples_split=2, min_weight_fraction_leaf=0.0,\n",
      "           n_estimators=10, n_jobs=1, oob_score=False, random_state=None,\n",
      "           verbose=0, warm_start=False)\n"
     ]
    },
    {
     "name": "stderr",
     "output_type": "stream",
     "text": [
      "/opt/conda/lib/python3.5/site-packages/ipykernel_launcher.py:37: DataConversionWarning: A column-vector y was passed when a 1d array was expected. Please change the shape of y to (n_samples,), for example using ravel().\n"
     ]
    }
   ],
   "source": [
    "split_data = split(features, target)\n",
    "scaled_data =transform(split_data)\n",
    "rfr_results = fit_and_score(scaled_data,RandomForestRegressor())\n",
    "print('Benchmark Train Score for RFR:', rfr_results['train_score'])\n",
    "print('Benchmark Test Score for RFR:', rfr_results['test_score'])\n",
    "print('\\033[1;35;30m Model:  \\n', rfr_results['model'])"
   ]
  },
  {
   "cell_type": "markdown",
   "metadata": {},
   "source": [
    "#### Benchmarking Model#3 Dummy Regressor"
   ]
  },
  {
   "cell_type": "code",
   "execution_count": 11,
   "metadata": {},
   "outputs": [
    {
     "name": "stdout",
     "output_type": "stream",
     "text": [
      "Train Score for Dummy Regressor: 0.0\n",
      "Train Score for Dummy Regressor: -0.00048576122892\n"
     ]
    }
   ],
   "source": [
    "split_data = split(features, target)\n",
    "scaled_data =transform(split_data)\n",
    "dummy = DummyRegressor().fit(scaled_data['X_train'],scaled_data['y_train'])\n",
    "dummy_predict_learn = dummy.predict(split_data['X_test'])\n",
    "print('Train Score for Dummy Regressor:',dummy.score(scaled_data['X_train'],scaled_data['y_train']))\n",
    "print('Train Score for Dummy Regressor:',dummy.score(scaled_data['X_test'],scaled_data['y_test']))"
   ]
  },
  {
   "cell_type": "markdown",
   "metadata": {},
   "source": [
    "### Prediction #1 Deskewed Scaled GridSearch KNN Regressor"
   ]
  },
  {
   "cell_type": "code",
   "execution_count": 12,
   "metadata": {
    "scrolled": true
   },
   "outputs": [
    {
     "name": "stdout",
     "output_type": "stream",
     "text": [
      "Benchmark Train_Score for KNN: 0.811241175712\n",
      "Benchmark Test_Score for KNN: 0.714523733217\n",
      "Train_Score: 0.779555956221\n",
      "Test_Score: 0.697085783542\n",
      "\u001b[1;36;30m Best Estimater for GS_KNR:  \n",
      " KNeighborsRegressor(algorithm='auto', leaf_size=30, metric='minkowski',\n",
      "          metric_params=None, n_jobs=1, n_neighbors=7, p=2,\n",
      "          weights='uniform')\n",
      "\u001b[1;35;30m Model:  \n",
      " GridSearchCV(cv=5, error_score='raise',\n",
      "       estimator=KNeighborsRegressor(algorithm='auto', leaf_size=30, metric='minkowski',\n",
      "          metric_params=None, n_jobs=1, n_neighbors=5, p=2,\n",
      "          weights='uniform'),\n",
      "       fit_params={}, iid=True, n_jobs=-1,\n",
      "       param_grid={'n_neighbors': [1, 3, 5, 7, 9, 11, 13, 15, 17, 19]},\n",
      "       pre_dispatch='2*n_jobs', refit=True, return_train_score=True,\n",
      "       scoring=None, verbose=0)\n"
     ]
    }
   ],
   "source": [
    "split_data = split(features_deskewed, target_deskewed)\n",
    "scaled_data = transform(split_data)\n",
    "\n",
    "knr_params={\n",
    "    'n_neighbors': list(range(1,21,2))\n",
    "}\n",
    "gs_knr=GridSearchCV(KNeighborsRegressor(),param_grid=knr_params,\n",
    "                                                      cv=5,\n",
    "                                                      n_jobs=-1)\n",
    "\n",
    "gs_knr_results = fit_and_score(scaled_data,gs_knr)\n",
    "print('Benchmark Train_Score for KNN:', knr_results['train_score'])\n",
    "print('Benchmark Test_Score for KNN:', knr_results['test_score'])\n",
    "print('Train_Score:', gs_knr_results['train_score'])\n",
    "print('Test_Score:', gs_knr_results['test_score'])\n",
    "print('\\033[1;36;30m Best Estimater for GS_KNR:  \\n', gs_knr_results['best_estimator'])\n",
    "print('\\033[1;35;30m Model:  \\n', gs_knr_results['model'])\n"
   ]
  },
  {
   "cell_type": "code",
   "execution_count": 13,
   "metadata": {},
   "outputs": [
    {
     "data": {
      "text/plain": [
       "<matplotlib.legend.Legend at 0x7fd04a614f28>"
      ]
     },
     "execution_count": 13,
     "metadata": {},
     "output_type": "execute_result"
    },
    {
     "name": "stderr",
     "output_type": "stream",
     "text": [
      "/opt/conda/lib/python3.5/site-packages/matplotlib/font_manager.py:1297: UserWarning: findfont: Font family ['sans-serif'] not found. Falling back to DejaVu Sans\n",
      "  (prop.get_family(), self.defaultFamily[fontext]))\n"
     ]
    },
    {
     "data": {
      "image/png": "[encoded data removed]",
      "text/plain": [
       "<matplotlib.figure.Figure at 0x7fd04a632898>"
      ]
     },
     "metadata": {},
     "output_type": "display_data"
    }
   ],
   "source": [
    "g = pd.DataFrame(gs_knr_results['cv_results'])\n",
    "plt.plot(g['param_n_neighbors'],g['mean_train_score'], c='g',label='Mean Train Score')\n",
    "plt.plot(g['param_n_neighbors'],g['mean_test_score'], c='r',label='Mean Test Score')\n",
    "plt.axvline(gs_knr_results['best_estimator'].n_neighbors,c='b',label='best K neighbors')\n",
    "plt.title('Mean Train/ Test Score over K_Neighbors ')\n",
    "plt.legend()"
   ]
  },
  {
   "cell_type": "markdown",
   "metadata": {},
   "source": [
    "### Prediction #2 Deskewed Scaled GridSearch Decision Tree Regressor"
   ]
  },
  {
   "cell_type": "code",
   "execution_count": 14,
   "metadata": {
    "scrolled": false
   },
   "outputs": [
    {
     "name": "stdout",
     "output_type": "stream",
     "text": [
      "Benchmark Train_Score for DTR: 1.0\n",
      "Benchmark Test_Score for DTR: 0.719577981527\n",
      "Train_Score: 0.856077747934\n",
      "Test_Score: 0.772713111825\n",
      "\u001b[1;36;30m Best Estimater for GS_DTR:  \n",
      " DecisionTreeRegressor(criterion='mse', max_depth=11, max_features=None,\n",
      "           max_leaf_nodes=None, min_impurity_split=1e-07,\n",
      "           min_samples_leaf=12, min_samples_split=2,\n",
      "           min_weight_fraction_leaf=0.0, presort=False, random_state=None,\n",
      "           splitter='best')\n",
      "\u001b[1;35;30m Model:  \n",
      " GridSearchCV(cv=5, error_score='raise',\n",
      "       estimator=DecisionTreeRegressor(criterion='mse', max_depth=None, max_features=None,\n",
      "           max_leaf_nodes=None, min_impurity_split=1e-07,\n",
      "           min_samples_leaf=1, min_samples_split=2,\n",
      "           min_weight_fraction_leaf=0.0, presort=False, random_state=None,\n",
      "           splitter='best'),\n",
      "       fit_params={}, iid=True, n_jobs=-1,\n",
      "       param_grid={'min_samples_leaf': [6, 12, 18, 24], 'max_depth': [3, 4, 5, 6, 7, 8, 9, 10, 11, 12, 13, 14]},\n",
      "       pre_dispatch='2*n_jobs', refit=True, return_train_score=True,\n",
      "       scoring=None, verbose=0)\n"
     ]
    }
   ],
   "source": [
    "split_data = split(features_deskewed, target_deskewed)\n",
    "scaled_data = transform(split_data)\n",
    "\n",
    "dtr_params={\n",
    "     \n",
    "    'max_depth':list(range(3,15,1)),\n",
    "     'min_samples_leaf':[6,12,18,24]\n",
    "    \n",
    "}\n",
    "gs_dtr=GridSearchCV(DecisionTreeRegressor(),param_grid=dtr_params,\n",
    "                                                        cv=5,\n",
    "                                                        n_jobs = -1)\n",
    "\n",
    "gs_dtr_results = fit_and_score(scaled_data, gs_dtr)\n",
    "\n",
    "print('Benchmark Train_Score for DTR:', dtr_results['train_score'])\n",
    "print('Benchmark Test_Score for DTR:', dtr_results['test_score'])\n",
    "print('Train_Score:', gs_dtr_results['train_score'])\n",
    "print('Test_Score:', gs_dtr_results['test_score'])\n",
    "print('\\033[1;36;30m Best Estimater for GS_DTR:  \\n',gs_dtr_results['best_estimator'])\n",
    "print('\\033[1;35;30m Model:  \\n', gs_dtr_results['model'])"
   ]
  },
  {
   "cell_type": "code",
   "execution_count": 15,
   "metadata": {},
   "outputs": [
    {
     "data": {
      "text/plain": [
       "<matplotlib.legend.Legend at 0x7fd04731c2e8>"
      ]
     },
     "execution_count": 15,
     "metadata": {},
     "output_type": "execute_result"
    },
    {
     "name": "stderr",
     "output_type": "stream",
     "text": [
      "/opt/conda/lib/python3.5/site-packages/matplotlib/font_manager.py:1297: UserWarning: findfont: Font family ['sans-serif'] not found. Falling back to DejaVu Sans\n",
      "  (prop.get_family(), self.defaultFamily[fontext]))\n"
     ]
    },
    {
     "data": {
      "image/png": "[encoded data removed]",
      "text/plain": [
       "<matplotlib.figure.Figure at 0x7fd04728e828>"
      ]
     },
     "metadata": {},
     "output_type": "display_data"
    }
   ],
   "source": [
    "g = pd.DataFrame(gs_dtr_results['cv_results'])\n",
    "min_samples_leaf_6 = g[g['param_min_samples_leaf'] == 6][['param_max_depth','mean_test_score']]\n",
    "min_samples_leaf_12 = g[g['param_min_samples_leaf'] == 12][['param_max_depth','mean_test_score']]\n",
    "min_samples_leaf_18 = g[g['param_min_samples_leaf'] == 18][['param_max_depth','mean_test_score']]\n",
    "min_samples_leaf_24 = g[g['param_min_samples_leaf'] == 24][['param_max_depth','mean_test_score']]\n",
    "plt.plot(min_samples_leaf_6 .values[:,0],min_samples_leaf_6 .values[:,1], c='r',label='min_samples_leaf_6 ')\n",
    "plt.plot(min_samples_leaf_12.values[:,0],min_samples_leaf_12.values[:,1], c='g',label='min_samples_leaf_12')\n",
    "plt.plot(min_samples_leaf_18.values[:,0],min_samples_leaf_18.values[:,1], c='m',label='min_samples_leaf_18')\n",
    "plt.plot(min_samples_leaf_24.values[:,0],min_samples_leaf_24.values[:,1], c='c',label='min_samples_leaf_24')\n",
    "plt.axvline(gs_dtr_results['best_estimator'].max_depth,c='b',label='best Max Depth')\n",
    "plt.legend()"
   ]
  },
  {
   "cell_type": "markdown",
   "metadata": {},
   "source": [
    "### Prediction #3 Scaled GridSearch KNearNeighbor Regressor"
   ]
  },
  {
   "cell_type": "code",
   "execution_count": 16,
   "metadata": {
    "scrolled": false
   },
   "outputs": [
    {
     "name": "stdout",
     "output_type": "stream",
     "text": [
      "Benchmark Train_Score for KNN: 0.811241175712\n",
      "Benchmark Test_Score for KNN: 0.714523733217\n",
      "Train_Score: 0.760452126038\n",
      "Test_Score: 0.69101392065\n",
      "Mean Train Score: [ 1.          0.85520962  0.81079131  0.78821834  0.76840419  0.75883941\n",
      "  0.74979713  0.74164735  0.73260024  0.72424477]\n",
      "Mean Test Score: [ 0.62431488  0.69208796  0.70086872  0.70312543  0.70304171  0.70444192\n",
      "  0.70016475  0.69660361  0.69256232  0.68793335]\n",
      "\u001b[1;36;30m Best Estimater for GS_KNR:  \n",
      " KNeighborsRegressor(algorithm='auto', leaf_size=30, metric='minkowski',\n",
      "          metric_params=None, n_jobs=1, n_neighbors=11, p=2,\n",
      "          weights='uniform')\n",
      "\u001b[1;35;30m Model:  \n",
      " GridSearchCV(cv=5, error_score='raise',\n",
      "       estimator=KNeighborsRegressor(algorithm='auto', leaf_size=30, metric='minkowski',\n",
      "          metric_params=None, n_jobs=1, n_neighbors=5, p=2,\n",
      "          weights='uniform'),\n",
      "       fit_params={}, iid=True, n_jobs=-1,\n",
      "       param_grid={'n_neighbors': [1, 3, 5, 7, 9, 11, 13, 15, 17, 19]},\n",
      "       pre_dispatch='2*n_jobs', refit=True, return_train_score=True,\n",
      "       scoring=None, verbose=0)\n"
     ]
    }
   ],
   "source": [
    "split_data = split(features, target)\n",
    "scaled_data = transform(split_data)\n",
    "knr_params={\n",
    "    'n_neighbors': list(range(1,21,2))   \n",
    "}\n",
    "\n",
    "gs_knr= GridSearchCV(KNeighborsRegressor(),param_grid=knr_params,\n",
    "                                                      cv=5,\n",
    "                                                      n_jobs=-1)\n",
    "gs_knr_results = fit_and_score(scaled_data,gs_knr\n",
    "                              )\n",
    "print('Benchmark Train_Score for KNN:', knr_results['train_score'])\n",
    "print('Benchmark Test_Score for KNN:', knr_results['test_score'])\n",
    "print('Train_Score:', gs_knr_results['train_score'])\n",
    "print('Test_Score:', gs_knr_results['test_score'])\n",
    "\n",
    "print('Mean Train Score:' ,gs_knr.cv_results_['mean_train_score'])\n",
    "print('Mean Test Score:' ,gs_knr.cv_results_['mean_test_score'])\n",
    "\n",
    "print('\\033[1;36;30m Best Estimater for GS_KNR:  \\n', gs_knr_results['best_estimator'])\n",
    "print('\\033[1;35;30m Model:  \\n', gs_knr_results['model'])"
   ]
  },
  {
   "cell_type": "code",
   "execution_count": 17,
   "metadata": {},
   "outputs": [
    {
     "data": {
      "text/plain": [
       "<matplotlib.legend.Legend at 0x7fd045007f28>"
      ]
     },
     "execution_count": 17,
     "metadata": {},
     "output_type": "execute_result"
    },
    {
     "name": "stderr",
     "output_type": "stream",
     "text": [
      "/opt/conda/lib/python3.5/site-packages/matplotlib/font_manager.py:1297: UserWarning: findfont: Font family ['sans-serif'] not found. Falling back to DejaVu Sans\n",
      "  (prop.get_family(), self.defaultFamily[fontext]))\n"
     ]
    },
    {
     "data": {
      "image/png": "[encoded data removed]",
      "text/plain": [
       "<matplotlib.figure.Figure at 0x7fd081b22390>"
      ]
     },
     "metadata": {},
     "output_type": "display_data"
    }
   ],
   "source": [
    "g = pd.DataFrame(gs_knr_results['cv_results'])\n",
    "plt.plot(g['param_n_neighbors'],g['mean_train_score'], c='g',label='Mean Train Score')\n",
    "plt.plot(g['param_n_neighbors'],g['mean_test_score'], c='r',label='Mean Test Score')\n",
    "plt.axvline(gs_knr_results['best_estimator'].n_neighbors,c='b',label='best K neighbors')\n",
    "plt.title('Mean Train/ Test Score over K_Neighbors ')\n",
    "plt.legend()"
   ]
  },
  {
   "cell_type": "markdown",
   "metadata": {},
   "source": [
    "### Prediction #4 Scaled GridSearch Decision Tree Regressor"
   ]
  },
  {
   "cell_type": "code",
   "execution_count": 18,
   "metadata": {
    "scrolled": false
   },
   "outputs": [
    {
     "name": "stdout",
     "output_type": "stream",
     "text": [
      "Benchmark Train_Score for DTR: 1.0\n",
      "Benchmark Test_Score for DTR: 0.719577981527\n",
      "Train_Score: 0.867843269389\n",
      "Test_Score: 0.797280164196\n",
      "\u001b[1;36;30m Best Estimater for GS_DTR:  \n",
      " DecisionTreeRegressor(criterion='mse', max_depth=17, max_features=None,\n",
      "           max_leaf_nodes=None, min_impurity_split=0.1, min_samples_leaf=4,\n",
      "           min_samples_split=24, min_weight_fraction_leaf=0.0,\n",
      "           presort=False, random_state=None, splitter='best')\n",
      "\u001b[1;35;30m Model:  \n",
      " GridSearchCV(cv=5, error_score='raise',\n",
      "       estimator=DecisionTreeRegressor(criterion='mse', max_depth=None, max_features=None,\n",
      "           max_leaf_nodes=None, min_impurity_split=1e-07,\n",
      "           min_samples_leaf=1, min_samples_split=2,\n",
      "           min_weight_fraction_leaf=0.0, presort=False, random_state=None,\n",
      "           splitter='best'),\n",
      "       fit_params={}, iid=True, n_jobs=-1,\n",
      "       param_grid={'min_impurity_split': [0.0001, 0.001, 0.01, 0.1, 1, 10, 100], 'min_samples_leaf': [2, 4, 6], 'max_depth': [10, 11, 12, 13, 14, 15, 16, 17], 'min_samples_split': [22, 24, 26]},\n",
      "       pre_dispatch='2*n_jobs', refit=True, return_train_score=True,\n",
      "       scoring=None, verbose=0)\n"
     ]
    }
   ],
   "source": [
    "split_data = split(features, target)\n",
    "scaled_data = transform(split_data)\n",
    "\n",
    "dtr_params={\n",
    "     \n",
    "     'max_depth':list(range(10,18,1)),\n",
    "     'min_samples_leaf':list(range(2,8,2)),\n",
    "     'min_impurity_split':[10**i for i in list(range(-4,3))],\n",
    "     'min_samples_split':list(range(22,28,2))\n",
    "}\n",
    "gs_dtr=GridSearchCV(DecisionTreeRegressor(),param_grid=dtr_params,\n",
    "                                                        cv=5,\n",
    "                                                        n_jobs = -1)\n",
    "\n",
    "gs_dtr_results = fit_and_score(scaled_data, gs_dtr)\n",
    "\n",
    "\n",
    "print('Benchmark Train_Score for DTR:', dtr_results['train_score'])\n",
    "print('Benchmark Test_Score for DTR:', dtr_results['test_score'])\n",
    "print('Train_Score:', gs_dtr_results['train_score'])\n",
    "print('Test_Score:', gs_dtr_results['test_score'])\n",
    "print('\\033[1;36;30m Best Estimater for GS_DTR:  \\n', gs_dtr_results['best_estimator'])\n",
    "print('\\033[1;35;30m Model:  \\n', gs_dtr_results['model'])"
   ]
  },
  {
   "cell_type": "code",
   "execution_count": 19,
   "metadata": {},
   "outputs": [
    {
     "name": "stdout",
     "output_type": "stream",
     "text": [
      "Benchmark Train_Score for DTR: 1.0\n",
      "Benchmark Test_Score for DTR: 0.719577981527\n",
      "Train_Score: 0.867843269389\n",
      "Test_Score: 0.797280164196\n",
      "\u001b[1;36;30m Best Estimater for GS_DTR:  \n",
      " DecisionTreeRegressor(criterion='mse', max_depth=16, max_features=None,\n",
      "           max_leaf_nodes=None, min_impurity_split=0.0001,\n",
      "           min_samples_leaf=4, min_samples_split=24,\n",
      "           min_weight_fraction_leaf=0.0, presort=False, random_state=None,\n",
      "           splitter='best')\n",
      "\u001b[1;35;30m Model:  \n",
      " GridSearchCV(cv=5, error_score='raise',\n",
      "       estimator=DecisionTreeRegressor(criterion='mse', max_depth=None, max_features=None,\n",
      "           max_leaf_nodes=None, min_impurity_split=1e-07,\n",
      "           min_samples_leaf=1, min_samples_split=2,\n",
      "           min_weight_fraction_leaf=0.0, presort=False, random_state=None,\n",
      "           splitter='best'),\n",
      "       fit_params={}, iid=True, n_jobs=-1,\n",
      "       param_grid={'min_impurity_split': [0.0001, 0.001, 0.01, 0.1, 1, 10, 100], 'min_samples_leaf': [2, 4, 6], 'max_depth': [10, 11, 12, 13, 14, 15, 16, 17], 'min_samples_split': [22, 24, 26]},\n",
      "       pre_dispatch='2*n_jobs', refit=True, return_train_score=True,\n",
      "       scoring=None, verbose=0)\n"
     ]
    }
   ],
   "source": [
    "split_data = split(features, target)\n",
    "scaled_data = transform(split_data)\n",
    "\n",
    "dtr_params={\n",
    "     \n",
    "     'max_depth':list(range(10,18,1)),\n",
    "     'min_samples_leaf':list(range(2,8,2)),\n",
    "     'min_impurity_split':[10**i for i in list(range(-4,3))],\n",
    "     'min_samples_split':list(range(22,28,2))\n",
    "}\n",
    "gs_dtr=GridSearchCV(DecisionTreeRegressor(),param_grid=dtr_params,\n",
    "                                                        cv=5,\n",
    "                                                        n_jobs = -1)\n",
    "\n",
    "gs_dtr_results = fit_and_score(scaled_data, gs_dtr)\n",
    "\n",
    "\n",
    "print('Benchmark Train_Score for DTR:', dtr_results['train_score'])\n",
    "print('Benchmark Test_Score for DTR:', dtr_results['test_score'])\n",
    "print('Train_Score:', gs_dtr_results['train_score'])\n",
    "print('Test_Score:', gs_dtr_results['test_score'])\n",
    "print('\\033[1;36;30m Best Estimater for GS_DTR:  \\n', gs_dtr_results['best_estimator'])\n",
    "print('\\033[1;35;30m Model:  \\n', gs_dtr_results['model'])"
   ]
  },
  {
   "cell_type": "code",
   "execution_count": 20,
   "metadata": {},
   "outputs": [
    {
     "data": {
      "text/plain": [
       "['gs_dtr']"
      ]
     },
     "execution_count": 20,
     "metadata": {},
     "output_type": "execute_result"
    }
   ],
   "source": [
    "from sklearn.externals import joblib\n",
    "joblib.dump(gs_dtr_results['model'], 'gs_dtr')"
   ]
  },
  {
   "cell_type": "code",
   "execution_count": 21,
   "metadata": {
    "collapsed": true
   },
   "outputs": [],
   "source": [
    "variable_model = joblib.load('gs_dtr')"
   ]
  },
  {
   "cell_type": "code",
   "execution_count": 22,
   "metadata": {},
   "outputs": [
    {
     "data": {
      "text/plain": [
       "GridSearchCV(cv=5, error_score='raise',\n",
       "       estimator=DecisionTreeRegressor(criterion='mse', max_depth=None, max_features=None,\n",
       "           max_leaf_nodes=None, min_impurity_split=1e-07,\n",
       "           min_samples_leaf=1, min_samples_split=2,\n",
       "           min_weight_fraction_leaf=0.0, presort=False, random_state=None,\n",
       "           splitter='best'),\n",
       "       fit_params={}, iid=True, n_jobs=-1,\n",
       "       param_grid={'min_impurity_split': [0.0001, 0.001, 0.01, 0.1, 1, 10, 100], 'min_samples_leaf': [2, 4, 6], 'max_depth': [10, 11, 12, 13, 14, 15, 16, 17], 'min_samples_split': [22, 24, 26]},\n",
       "       pre_dispatch='2*n_jobs', refit=True, return_train_score=True,\n",
       "       scoring=None, verbose=0)"
      ]
     },
     "execution_count": 22,
     "metadata": {},
     "output_type": "execute_result"
    }
   ],
   "source": [
    "variable_model"
   ]
  },
  {
   "cell_type": "markdown",
   "metadata": {},
   "source": [
    "## Model Complexity Evaluation\n",
    "\n",
    "1. Train a grid searched Decision Tree using a range of `max_depth`. \n",
    "1. Obtain the `cv_results_` from the `GridSearchCV` object.\n",
    "1. Prepare a plot of `mean_train_score` against `max_depth` and `mean_test_score` against `max_depth` on the same plot. "
   ]
  },
  {
   "cell_type": "code",
   "execution_count": 23,
   "metadata": {
    "scrolled": false
   },
   "outputs": [
    {
     "data": {
      "text/plain": [
       "DecisionTreeRegressor(criterion='mse', max_depth=6, max_features=None,\n",
       "           max_leaf_nodes=None, min_impurity_split=1e-07,\n",
       "           min_samples_leaf=1, min_samples_split=2,\n",
       "           min_weight_fraction_leaf=0.0, presort=False, random_state=13,\n",
       "           splitter='best')"
      ]
     },
     "metadata": {},
     "output_type": "display_data"
    },
    {
     "data": {
      "text/html": [
       "<div>\n",
       "<table border=\"1\" class=\"dataframe\">\n",
       "  <thead>\n",
       "    <tr style=\"text-align: right;\">\n",
       "      <th></th>\n",
       "      <th>mean_fit_time</th>\n",
       "      <th>mean_score_time</th>\n",
       "      <th>mean_test_score</th>\n",
       "      <th>mean_train_score</th>\n",
       "      <th>param_max_depth</th>\n",
       "      <th>params</th>\n",
       "      <th>rank_test_score</th>\n",
       "      <th>split0_test_score</th>\n",
       "      <th>split0_train_score</th>\n",
       "      <th>split1_test_score</th>\n",
       "      <th>...</th>\n",
       "      <th>split2_test_score</th>\n",
       "      <th>split2_train_score</th>\n",
       "      <th>split3_test_score</th>\n",
       "      <th>split3_train_score</th>\n",
       "      <th>split4_test_score</th>\n",
       "      <th>split4_train_score</th>\n",
       "      <th>std_fit_time</th>\n",
       "      <th>std_score_time</th>\n",
       "      <th>std_test_score</th>\n",
       "      <th>std_train_score</th>\n",
       "    </tr>\n",
       "  </thead>\n",
       "  <tbody>\n",
       "    <tr>\n",
       "      <th>0</th>\n",
       "      <td>0.0045</td>\n",
       "      <td>0.0003</td>\n",
       "      <td>0.3542</td>\n",
       "      <td>0.3854</td>\n",
       "      <td>1</td>\n",
       "      <td>{'max_depth': 1}</td>\n",
       "      <td>31</td>\n",
       "      <td>0.3515</td>\n",
       "      <td>0.3953</td>\n",
       "      <td>0.3115</td>\n",
       "      <td>...</td>\n",
       "      <td>0.4272</td>\n",
       "      <td>0.3743</td>\n",
       "      <td>0.2881</td>\n",
       "      <td>0.4020</td>\n",
       "      <td>0.3928</td>\n",
       "      <td>0.3825</td>\n",
       "      <td>1.8991e-03</td>\n",
       "      <td>1.8090e-05</td>\n",
       "      <td>0.0510</td>\n",
       "      <td>0.0114</td>\n",
       "    </tr>\n",
       "    <tr>\n",
       "      <th>1</th>\n",
       "      <td>0.0048</td>\n",
       "      <td>0.0004</td>\n",
       "      <td>0.5296</td>\n",
       "      <td>0.5719</td>\n",
       "      <td>2</td>\n",
       "      <td>{'max_depth': 2}</td>\n",
       "      <td>30</td>\n",
       "      <td>0.5251</td>\n",
       "      <td>0.5814</td>\n",
       "      <td>0.5294</td>\n",
       "      <td>...</td>\n",
       "      <td>0.5524</td>\n",
       "      <td>0.5692</td>\n",
       "      <td>0.4853</td>\n",
       "      <td>0.5797</td>\n",
       "      <td>0.5557</td>\n",
       "      <td>0.5633</td>\n",
       "      <td>3.2154e-05</td>\n",
       "      <td>3.0516e-05</td>\n",
       "      <td>0.0252</td>\n",
       "      <td>0.0073</td>\n",
       "    </tr>\n",
       "    <tr>\n",
       "      <th>2</th>\n",
       "      <td>0.0078</td>\n",
       "      <td>0.0005</td>\n",
       "      <td>0.6159</td>\n",
       "      <td>0.7043</td>\n",
       "      <td>3</td>\n",
       "      <td>{'max_depth': 3}</td>\n",
       "      <td>29</td>\n",
       "      <td>0.6242</td>\n",
       "      <td>0.6972</td>\n",
       "      <td>0.6076</td>\n",
       "      <td>...</td>\n",
       "      <td>0.6454</td>\n",
       "      <td>0.7066</td>\n",
       "      <td>0.5920</td>\n",
       "      <td>0.7283</td>\n",
       "      <td>0.6103</td>\n",
       "      <td>0.6935</td>\n",
       "      <td>3.1965e-03</td>\n",
       "      <td>1.4995e-04</td>\n",
       "      <td>0.0179</td>\n",
       "      <td>0.0128</td>\n",
       "    </tr>\n",
       "    <tr>\n",
       "      <th>3</th>\n",
       "      <td>0.0083</td>\n",
       "      <td>0.0005</td>\n",
       "      <td>0.6578</td>\n",
       "      <td>0.7931</td>\n",
       "      <td>4</td>\n",
       "      <td>{'max_depth': 4}</td>\n",
       "      <td>3</td>\n",
       "      <td>0.6765</td>\n",
       "      <td>0.8008</td>\n",
       "      <td>0.6365</td>\n",
       "      <td>...</td>\n",
       "      <td>0.6703</td>\n",
       "      <td>0.7989</td>\n",
       "      <td>0.6218</td>\n",
       "      <td>0.8115</td>\n",
       "      <td>0.6840</td>\n",
       "      <td>0.7820</td>\n",
       "      <td>4.3926e-04</td>\n",
       "      <td>9.9742e-05</td>\n",
       "      <td>0.0243</td>\n",
       "      <td>0.0140</td>\n",
       "    </tr>\n",
       "    <tr>\n",
       "      <th>4</th>\n",
       "      <td>0.0084</td>\n",
       "      <td>0.0004</td>\n",
       "      <td>0.6711</td>\n",
       "      <td>0.8627</td>\n",
       "      <td>5</td>\n",
       "      <td>{'max_depth': 5}</td>\n",
       "      <td>2</td>\n",
       "      <td>0.6489</td>\n",
       "      <td>0.8657</td>\n",
       "      <td>0.6471</td>\n",
       "      <td>...</td>\n",
       "      <td>0.7167</td>\n",
       "      <td>0.8717</td>\n",
       "      <td>0.6489</td>\n",
       "      <td>0.8708</td>\n",
       "      <td>0.6939</td>\n",
       "      <td>0.8606</td>\n",
       "      <td>3.0798e-04</td>\n",
       "      <td>1.7702e-05</td>\n",
       "      <td>0.0288</td>\n",
       "      <td>0.0099</td>\n",
       "    </tr>\n",
       "  </tbody>\n",
       "</table>\n",
       "<p>5 rows × 21 columns</p>\n",
       "</div>"
      ],
      "text/plain": [
       "   mean_fit_time  mean_score_time  mean_test_score  mean_train_score  \\\n",
       "0         0.0045           0.0003           0.3542            0.3854   \n",
       "1         0.0048           0.0004           0.5296            0.5719   \n",
       "2         0.0078           0.0005           0.6159            0.7043   \n",
       "3         0.0083           0.0005           0.6578            0.7931   \n",
       "4         0.0084           0.0004           0.6711            0.8627   \n",
       "\n",
       "  param_max_depth            params  rank_test_score  split0_test_score  \\\n",
       "0               1  {'max_depth': 1}               31             0.3515   \n",
       "1               2  {'max_depth': 2}               30             0.5251   \n",
       "2               3  {'max_depth': 3}               29             0.6242   \n",
       "3               4  {'max_depth': 4}                3             0.6765   \n",
       "4               5  {'max_depth': 5}                2             0.6489   \n",
       "\n",
       "   split0_train_score  split1_test_score       ...         split2_test_score  \\\n",
       "0              0.3953             0.3115       ...                    0.4272   \n",
       "1              0.5814             0.5294       ...                    0.5524   \n",
       "2              0.6972             0.6076       ...                    0.6454   \n",
       "3              0.8008             0.6365       ...                    0.6703   \n",
       "4              0.8657             0.6471       ...                    0.7167   \n",
       "\n",
       "   split2_train_score  split3_test_score  split3_train_score  \\\n",
       "0              0.3743             0.2881              0.4020   \n",
       "1              0.5692             0.4853              0.5797   \n",
       "2              0.7066             0.5920              0.7283   \n",
       "3              0.7989             0.6218              0.8115   \n",
       "4              0.8717             0.6489              0.8708   \n",
       "\n",
       "   split4_test_score  split4_train_score  std_fit_time  std_score_time  \\\n",
       "0             0.3928              0.3825    1.8991e-03      1.8090e-05   \n",
       "1             0.5557              0.5633    3.2154e-05      3.0516e-05   \n",
       "2             0.6103              0.6935    3.1965e-03      1.4995e-04   \n",
       "3             0.6840              0.7820    4.3926e-04      9.9742e-05   \n",
       "4             0.6939              0.8606    3.0798e-04      1.7702e-05   \n",
       "\n",
       "   std_test_score  std_train_score  \n",
       "0          0.0510           0.0114  \n",
       "1          0.0252           0.0073  \n",
       "2          0.0179           0.0128  \n",
       "3          0.0243           0.0140  \n",
       "4          0.0288           0.0099  \n",
       "\n",
       "[5 rows x 21 columns]"
      ]
     },
     "metadata": {},
     "output_type": "display_data"
    },
    {
     "data": {
      "text/plain": [
       "Index(['mean_fit_time', 'mean_score_time', 'mean_test_score',\n",
       "       'mean_train_score', 'param_max_depth', 'params', 'rank_test_score',\n",
       "       'split0_test_score', 'split0_train_score', 'split1_test_score',\n",
       "       'split1_train_score', 'split2_test_score', 'split2_train_score',\n",
       "       'split3_test_score', 'split3_train_score', 'split4_test_score',\n",
       "       'split4_train_score', 'std_fit_time', 'std_score_time',\n",
       "       'std_test_score', 'std_train_score'],\n",
       "      dtype='object')"
      ]
     },
     "metadata": {},
     "output_type": "display_data"
    }
   ],
   "source": [
    "X_train, X_test, y_train, y_test = train_test_split(features_deskewed,target_deskewed,\n",
    "                                                  test_size = .3,\n",
    "                                                  random_state = 42)\n",
    "scaler = StandardScaler()\n",
    "X_train_scaled = scaler.fit_transform(X_train)\n",
    "X_test_scaled = scaler.transform(X_test)\n",
    "dtr = DecisionTreeRegressor()\n",
    "dtr.fit(X_train_scaled, y_train)\n",
    "params = {\n",
    "    'max_depth':list(range(1,32))\n",
    "}\n",
    "gs_dtr = GridSearchCV(DecisionTreeRegressor(random_state=13), param_grid=params, cv=5 ,n_jobs = -1)\n",
    "gs_dtr.fit(X_train_scaled, y_train)\n",
    "display(gs_dtr.best_estimator_)\n",
    "display(pd.DataFrame(gs_dtr.cv_results_).head())\n",
    "display(pd.DataFrame(gs_dtr.cv_results_).columns)"
   ]
  },
  {
   "cell_type": "code",
   "execution_count": 24,
   "metadata": {},
   "outputs": [
    {
     "data": {
      "text/plain": [
       "0.90777779683630055"
      ]
     },
     "execution_count": 24,
     "metadata": {},
     "output_type": "execute_result"
    }
   ],
   "source": [
    "gs_dtr.score(X_train_scaled, y_train)"
   ]
  },
  {
   "cell_type": "code",
   "execution_count": 25,
   "metadata": {},
   "outputs": [
    {
     "data": {
      "text/plain": [
       "0.71100538807609492"
      ]
     },
     "execution_count": 25,
     "metadata": {},
     "output_type": "execute_result"
    }
   ],
   "source": [
    "gs_dtr.score(X_test_scaled, y_test)"
   ]
  },
  {
   "cell_type": "code",
   "execution_count": 26,
   "metadata": {},
   "outputs": [
    {
     "data": {
      "text/plain": [
       "6"
      ]
     },
     "execution_count": 26,
     "metadata": {},
     "output_type": "execute_result"
    }
   ],
   "source": [
    "gs_dtr.best_estimator_.max_depth"
   ]
  },
  {
   "cell_type": "code",
   "execution_count": 27,
   "metadata": {
    "scrolled": false
   },
   "outputs": [
    {
     "data": {
      "text/plain": [
       "<matplotlib.legend.Legend at 0x7fd044f383c8>"
      ]
     },
     "execution_count": 27,
     "metadata": {},
     "output_type": "execute_result"
    },
    {
     "name": "stderr",
     "output_type": "stream",
     "text": [
      "/opt/conda/lib/python3.5/site-packages/matplotlib/font_manager.py:1297: UserWarning: findfont: Font family ['sans-serif'] not found. Falling back to DejaVu Sans\n",
      "  (prop.get_family(), self.defaultFamily[fontext]))\n"
     ]
    },
    {
     "data": {
      "image/png": "[encoded data removed]",
      "text/plain": [
       "<matplotlib.figure.Figure at 0x7fd044fbf048>"
      ]
     },
     "metadata": {},
     "output_type": "display_data"
    }
   ],
   "source": [
    "#Prepare a plot of mean_train_score against max_depth and mean_test_score against max_depth on the same plot.\n",
    "plt.plot(gs_dtr.cv_results_['param_max_depth'], gs_dtr.cv_results_['mean_test_score'], c='r',label='Test Score')\n",
    "plt.plot(gs_dtr.cv_results_['param_max_depth'], gs_dtr.cv_results_['mean_train_score'], c='g',label='Train Score')\n",
    "plt.axvline(gs_dtr.best_estimator_.max_depth,c='b',label='best Max Depth')\n",
    "plt.legend()"
   ]
  },
  {
   "cell_type": "markdown",
   "metadata": {},
   "source": [
    "What is the grid search algorithm and when is it applicable? What is cross-validation, and how is it performed on a model? Why would cross-validation be helpful when using grid search?"
   ]
  },
  {
   "cell_type": "markdown",
   "metadata": {},
   "source": [
    "### <font color='blue'> ANSWER:\n",
    "#### <font color='blue'> Max_depth=5 and max_depth=6 both reflect a higher mean_test_score over other parameters while a higher mean_train_score falls on to max_depth=6. Since what we really care about is the test score not the train score; to simplfied this model, I believe setting  max_depth = 5 over Decision Tree regression is sufficient for the model"
   ]
  },
  {
   "cell_type": "markdown",
   "metadata": {},
   "source": [
    "### Prediction\n",
    "\n",
    "Choose a model you have developed in this workbook that you believe will best generalize. Provide a statement here as to why you think it will generalize best. Pickle the model and upload to github along with this notebook."
   ]
  },
  {
   "cell_type": "markdown",
   "metadata": {
    "collapsed": true
   },
   "source": [
    "#### <font color='blue'> I believe the model that  generalize data the best is a Decision Tree Regressor model over below parameters:</font>\n",
    "\n",
    "<span style=\"color:blue\"> ** * criterion='mse'**</span>\n",
    "<br><span style=\"color:blue\"> ** * max_depth=16**</span>\n",
    "<br><span style=\"color:blue\"> ** * max_features=None**</span>\n",
    "<br><span style=\"color:blue\"> ** * max_leaf_nodes=None**</span>\n",
    "<br><span style=\"color:blue\"> ** * min_impurity_split=10**</span>\n",
    "<br><span style=\"color:blue\"> ** * min_samples_leaf=4**</span>\n",
    "<br><span style=\"color:blue\"> ** * min_samples_split=24**</span>\n",
    "<br><span style=\"color:blue\"> ** * min_weight_fraction_leaf=0.0**</span>\n",
    "<br><span style=\"color:blue\"> ** * presort=False**</span>\n",
    "<br><span style=\"color:blue\"> ** * random_state=None**</span>\n",
    "<br><span style=\"color:blue\"> ** * splitter='best'**</span>         \n",
    "<br><span style=\"color:blue\"> ** * Train_Score: 0.867843269389**</span>\n",
    "<br><span style=\"color:blue\"> ** * Test_Score: 0.797280164196**</span>\n",
    "\n",
    "#### <font color='blue'> After fed in both un-deskewed and deskewed data to different models,  I found using un-deskewed data over DTC model gave me a better train/test score</font>"
   ]
  },
  {
   "cell_type": "code",
   "execution_count": 28,
   "metadata": {},
   "outputs": [
    {
     "name": "stdout",
     "output_type": "stream",
     "text": [
      "Benchmark Train_Score for DTR: 1.0\n",
      "Benchmark Test_Score for DTR: 0.719577981527\n",
      "Train_Score: 0.867843269389\n",
      "Test_Score: 0.797280164196\n",
      "\u001b[1;36;30m Best Estimater for GS_DTR:  \n",
      " DecisionTreeRegressor(criterion='mse', max_depth=16, max_features=None,\n",
      "           max_leaf_nodes=None, min_impurity_split=0.0001,\n",
      "           min_samples_leaf=4, min_samples_split=24,\n",
      "           min_weight_fraction_leaf=0.0, presort=False, random_state=None,\n",
      "           splitter='best')\n",
      "\u001b[1;35;30m Model:  \n",
      " GridSearchCV(cv=5, error_score='raise',\n",
      "       estimator=DecisionTreeRegressor(criterion='mse', max_depth=None, max_features=None,\n",
      "           max_leaf_nodes=None, min_impurity_split=1e-07,\n",
      "           min_samples_leaf=1, min_samples_split=2,\n",
      "           min_weight_fraction_leaf=0.0, presort=False, random_state=None,\n",
      "           splitter='best'),\n",
      "       fit_params={}, iid=True, n_jobs=-1,\n",
      "       param_grid={'min_impurity_split': [0.0001, 0.001, 0.01, 0.1, 1, 10, 100], 'min_samples_leaf': [2, 4, 6], 'max_depth': [10, 11, 12, 13, 14, 15, 16, 17], 'min_samples_split': [22, 24, 26]},\n",
      "       pre_dispatch='2*n_jobs', refit=True, return_train_score=True,\n",
      "       scoring=None, verbose=0)\n"
     ]
    }
   ],
   "source": [
    "print('Benchmark Train_Score for DTR:', dtr_results['train_score'])\n",
    "print('Benchmark Test_Score for DTR:', dtr_results['test_score'])\n",
    "print('Train_Score:', gs_dtr_results['train_score'])\n",
    "print('Test_Score:', gs_dtr_results['test_score'])\n",
    "print('\\033[1;36;30m Best Estimater for GS_DTR:  \\n', gs_dtr_results['best_estimator'])\n",
    "print('\\033[1;35;30m Model:  \\n', gs_dtr_results['model'])"
   ]
  },
  {
   "cell_type": "code",
   "execution_count": null,
   "metadata": {
    "collapsed": true
   },
   "outputs": [],
   "source": []
  }
 ],
 "metadata": {
  "kernelspec": {
   "display_name": "Python 3",
   "language": "python",
   "name": "python3"
  },
  "language_info": {
   "codemirror_mode": {
    "name": "ipython",
    "version": 3
   },
   "file_extension": ".py",
   "mimetype": "text/x-python",
   "name": "python",
   "nbconvert_exporter": "python",
   "pygments_lexer": "ipython3",
   "version": "3.5.2"
  }
 },
 "nbformat": 4,
 "nbformat_minor": 2
}
